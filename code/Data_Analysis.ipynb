{
  "nbformat": 4,
  "nbformat_minor": 0,
  "metadata": {
    "colab": {
      "name": "Data_Analysis.ipynb",
      "provenance": [],
      "collapsed_sections": []
    },
    "kernelspec": {
      "name": "python3",
      "display_name": "Python 3"
    },
    "language_info": {
      "name": "python"
    }
  },
  "cells": [
    {
      "cell_type": "code",
      "execution_count": 238,
      "metadata": {
        "id": "4aQrPk4RCXMd"
      },
      "outputs": [],
      "source": [
        "import pandas as pd\n",
        "import numpy as np\n",
        "import matplotlib.pyplot as plt\n",
        "import json"
      ]
    },
    {
      "cell_type": "markdown",
      "source": [
        "Read both csv files as dataframes"
      ],
      "metadata": {
        "id": "pVZyRnmcJWDv"
      }
    },
    {
      "cell_type": "code",
      "source": [
        "movies_path = '/content/drive/MyDrive/EDA/Project/data/tmdb_5000_movies.csv'\n",
        "credits_path = '/content/drive/MyDrive/EDA/Project/data/tmdb_5000_credits.csv'"
      ],
      "metadata": {
        "id": "6wbeb9trGQ7Z"
      },
      "execution_count": 239,
      "outputs": []
    },
    {
      "cell_type": "code",
      "source": [
        "movies_df = pd.read_csv(movies_path)\n",
        "credits_df = pd.read_csv(credits_path)"
      ],
      "metadata": {
        "id": "55DO4dFkGECS"
      },
      "execution_count": 240,
      "outputs": []
    },
    {
      "cell_type": "markdown",
      "source": [
        "Check column names and types"
      ],
      "metadata": {
        "id": "cHkTotCAJaW3"
      }
    },
    {
      "cell_type": "code",
      "source": [
        "print(movies_df.info())"
      ],
      "metadata": {
        "colab": {
          "base_uri": "https://localhost:8080/"
        },
        "id": "wvBW_Td_Llmm",
        "outputId": "14c4e818-9c9a-405b-c8ba-8afaa93b77d3"
      },
      "execution_count": 241,
      "outputs": [
        {
          "output_type": "stream",
          "name": "stdout",
          "text": [
            "<class 'pandas.core.frame.DataFrame'>\n",
            "RangeIndex: 4803 entries, 0 to 4802\n",
            "Data columns (total 20 columns):\n",
            " #   Column                Non-Null Count  Dtype  \n",
            "---  ------                --------------  -----  \n",
            " 0   budget                4803 non-null   int64  \n",
            " 1   genres                4803 non-null   object \n",
            " 2   homepage              1712 non-null   object \n",
            " 3   id                    4803 non-null   int64  \n",
            " 4   keywords              4803 non-null   object \n",
            " 5   original_language     4803 non-null   object \n",
            " 6   original_title        4803 non-null   object \n",
            " 7   overview              4800 non-null   object \n",
            " 8   popularity            4803 non-null   float64\n",
            " 9   production_companies  4803 non-null   object \n",
            " 10  production_countries  4803 non-null   object \n",
            " 11  release_date          4802 non-null   object \n",
            " 12  revenue               4803 non-null   int64  \n",
            " 13  runtime               4801 non-null   float64\n",
            " 14  spoken_languages      4803 non-null   object \n",
            " 15  status                4803 non-null   object \n",
            " 16  tagline               3959 non-null   object \n",
            " 17  title                 4803 non-null   object \n",
            " 18  vote_average          4803 non-null   float64\n",
            " 19  vote_count            4803 non-null   int64  \n",
            "dtypes: float64(3), int64(4), object(13)\n",
            "memory usage: 750.6+ KB\n",
            "None\n"
          ]
        }
      ]
    },
    {
      "cell_type": "markdown",
      "source": [
        "\"Object\" refers to string. However, some columns contain simple strings (like sentences) and some columns contain a list of JSONs as a string."
      ],
      "metadata": {
        "id": "xdxI1KOFLpXw"
      }
    },
    {
      "cell_type": "code",
      "source": [
        "print(credits_df.info())"
      ],
      "metadata": {
        "colab": {
          "base_uri": "https://localhost:8080/"
        },
        "id": "DbAfPhMaLvwU",
        "outputId": "7a58f388-3070-4c43-fd9d-ff8812f6551e"
      },
      "execution_count": 242,
      "outputs": [
        {
          "output_type": "stream",
          "name": "stdout",
          "text": [
            "<class 'pandas.core.frame.DataFrame'>\n",
            "RangeIndex: 4803 entries, 0 to 4802\n",
            "Data columns (total 4 columns):\n",
            " #   Column    Non-Null Count  Dtype \n",
            "---  ------    --------------  ----- \n",
            " 0   movie_id  4803 non-null   int64 \n",
            " 1   title     4803 non-null   object\n",
            " 2   cast      4803 non-null   object\n",
            " 3   crew      4803 non-null   object\n",
            "dtypes: int64(1), object(3)\n",
            "memory usage: 150.2+ KB\n",
            "None\n"
          ]
        }
      ]
    },
    {
      "cell_type": "markdown",
      "source": [
        "Take a look at a few examples in both dataframes"
      ],
      "metadata": {
        "id": "2MvhJNHqKX8n"
      }
    },
    {
      "cell_type": "code",
      "source": [
        "movies_df.head(2)"
      ],
      "metadata": {
        "colab": {
          "base_uri": "https://localhost:8080/",
          "height": 367
        },
        "id": "iljVy-LxKcI3",
        "outputId": "d0566fe5-9aa4-4710-ae26-7cad089bccc7"
      },
      "execution_count": 243,
      "outputs": [
        {
          "output_type": "execute_result",
          "data": {
            "text/html": [
              "\n",
              "  <div id=\"df-0b782fcc-8a59-4369-9143-318af0d439f7\">\n",
              "    <div class=\"colab-df-container\">\n",
              "      <div>\n",
              "<style scoped>\n",
              "    .dataframe tbody tr th:only-of-type {\n",
              "        vertical-align: middle;\n",
              "    }\n",
              "\n",
              "    .dataframe tbody tr th {\n",
              "        vertical-align: top;\n",
              "    }\n",
              "\n",
              "    .dataframe thead th {\n",
              "        text-align: right;\n",
              "    }\n",
              "</style>\n",
              "<table border=\"1\" class=\"dataframe\">\n",
              "  <thead>\n",
              "    <tr style=\"text-align: right;\">\n",
              "      <th></th>\n",
              "      <th>budget</th>\n",
              "      <th>genres</th>\n",
              "      <th>homepage</th>\n",
              "      <th>id</th>\n",
              "      <th>keywords</th>\n",
              "      <th>original_language</th>\n",
              "      <th>original_title</th>\n",
              "      <th>overview</th>\n",
              "      <th>popularity</th>\n",
              "      <th>production_companies</th>\n",
              "      <th>production_countries</th>\n",
              "      <th>release_date</th>\n",
              "      <th>revenue</th>\n",
              "      <th>runtime</th>\n",
              "      <th>spoken_languages</th>\n",
              "      <th>status</th>\n",
              "      <th>tagline</th>\n",
              "      <th>title</th>\n",
              "      <th>vote_average</th>\n",
              "      <th>vote_count</th>\n",
              "    </tr>\n",
              "  </thead>\n",
              "  <tbody>\n",
              "    <tr>\n",
              "      <th>0</th>\n",
              "      <td>237000000</td>\n",
              "      <td>[{\"id\": 28, \"name\": \"Action\"}, {\"id\": 12, \"nam...</td>\n",
              "      <td>http://www.avatarmovie.com/</td>\n",
              "      <td>19995</td>\n",
              "      <td>[{\"id\": 1463, \"name\": \"culture clash\"}, {\"id\":...</td>\n",
              "      <td>en</td>\n",
              "      <td>Avatar</td>\n",
              "      <td>In the 22nd century, a paraplegic Marine is di...</td>\n",
              "      <td>150.437577</td>\n",
              "      <td>[{\"name\": \"Ingenious Film Partners\", \"id\": 289...</td>\n",
              "      <td>[{\"iso_3166_1\": \"US\", \"name\": \"United States o...</td>\n",
              "      <td>2009-12-10</td>\n",
              "      <td>2787965087</td>\n",
              "      <td>162.0</td>\n",
              "      <td>[{\"iso_639_1\": \"en\", \"name\": \"English\"}, {\"iso...</td>\n",
              "      <td>Released</td>\n",
              "      <td>Enter the World of Pandora.</td>\n",
              "      <td>Avatar</td>\n",
              "      <td>7.2</td>\n",
              "      <td>11800</td>\n",
              "    </tr>\n",
              "    <tr>\n",
              "      <th>1</th>\n",
              "      <td>300000000</td>\n",
              "      <td>[{\"id\": 12, \"name\": \"Adventure\"}, {\"id\": 14, \"...</td>\n",
              "      <td>http://disney.go.com/disneypictures/pirates/</td>\n",
              "      <td>285</td>\n",
              "      <td>[{\"id\": 270, \"name\": \"ocean\"}, {\"id\": 726, \"na...</td>\n",
              "      <td>en</td>\n",
              "      <td>Pirates of the Caribbean: At World's End</td>\n",
              "      <td>Captain Barbossa, long believed to be dead, ha...</td>\n",
              "      <td>139.082615</td>\n",
              "      <td>[{\"name\": \"Walt Disney Pictures\", \"id\": 2}, {\"...</td>\n",
              "      <td>[{\"iso_3166_1\": \"US\", \"name\": \"United States o...</td>\n",
              "      <td>2007-05-19</td>\n",
              "      <td>961000000</td>\n",
              "      <td>169.0</td>\n",
              "      <td>[{\"iso_639_1\": \"en\", \"name\": \"English\"}]</td>\n",
              "      <td>Released</td>\n",
              "      <td>At the end of the world, the adventure begins.</td>\n",
              "      <td>Pirates of the Caribbean: At World's End</td>\n",
              "      <td>6.9</td>\n",
              "      <td>4500</td>\n",
              "    </tr>\n",
              "  </tbody>\n",
              "</table>\n",
              "</div>\n",
              "      <button class=\"colab-df-convert\" onclick=\"convertToInteractive('df-0b782fcc-8a59-4369-9143-318af0d439f7')\"\n",
              "              title=\"Convert this dataframe to an interactive table.\"\n",
              "              style=\"display:none;\">\n",
              "        \n",
              "  <svg xmlns=\"http://www.w3.org/2000/svg\" height=\"24px\"viewBox=\"0 0 24 24\"\n",
              "       width=\"24px\">\n",
              "    <path d=\"M0 0h24v24H0V0z\" fill=\"none\"/>\n",
              "    <path d=\"M18.56 5.44l.94 2.06.94-2.06 2.06-.94-2.06-.94-.94-2.06-.94 2.06-2.06.94zm-11 1L8.5 8.5l.94-2.06 2.06-.94-2.06-.94L8.5 2.5l-.94 2.06-2.06.94zm10 10l.94 2.06.94-2.06 2.06-.94-2.06-.94-.94-2.06-.94 2.06-2.06.94z\"/><path d=\"M17.41 7.96l-1.37-1.37c-.4-.4-.92-.59-1.43-.59-.52 0-1.04.2-1.43.59L10.3 9.45l-7.72 7.72c-.78.78-.78 2.05 0 2.83L4 21.41c.39.39.9.59 1.41.59.51 0 1.02-.2 1.41-.59l7.78-7.78 2.81-2.81c.8-.78.8-2.07 0-2.86zM5.41 20L4 18.59l7.72-7.72 1.47 1.35L5.41 20z\"/>\n",
              "  </svg>\n",
              "      </button>\n",
              "      \n",
              "  <style>\n",
              "    .colab-df-container {\n",
              "      display:flex;\n",
              "      flex-wrap:wrap;\n",
              "      gap: 12px;\n",
              "    }\n",
              "\n",
              "    .colab-df-convert {\n",
              "      background-color: #E8F0FE;\n",
              "      border: none;\n",
              "      border-radius: 50%;\n",
              "      cursor: pointer;\n",
              "      display: none;\n",
              "      fill: #1967D2;\n",
              "      height: 32px;\n",
              "      padding: 0 0 0 0;\n",
              "      width: 32px;\n",
              "    }\n",
              "\n",
              "    .colab-df-convert:hover {\n",
              "      background-color: #E2EBFA;\n",
              "      box-shadow: 0px 1px 2px rgba(60, 64, 67, 0.3), 0px 1px 3px 1px rgba(60, 64, 67, 0.15);\n",
              "      fill: #174EA6;\n",
              "    }\n",
              "\n",
              "    [theme=dark] .colab-df-convert {\n",
              "      background-color: #3B4455;\n",
              "      fill: #D2E3FC;\n",
              "    }\n",
              "\n",
              "    [theme=dark] .colab-df-convert:hover {\n",
              "      background-color: #434B5C;\n",
              "      box-shadow: 0px 1px 3px 1px rgba(0, 0, 0, 0.15);\n",
              "      filter: drop-shadow(0px 1px 2px rgba(0, 0, 0, 0.3));\n",
              "      fill: #FFFFFF;\n",
              "    }\n",
              "  </style>\n",
              "\n",
              "      <script>\n",
              "        const buttonEl =\n",
              "          document.querySelector('#df-0b782fcc-8a59-4369-9143-318af0d439f7 button.colab-df-convert');\n",
              "        buttonEl.style.display =\n",
              "          google.colab.kernel.accessAllowed ? 'block' : 'none';\n",
              "\n",
              "        async function convertToInteractive(key) {\n",
              "          const element = document.querySelector('#df-0b782fcc-8a59-4369-9143-318af0d439f7');\n",
              "          const dataTable =\n",
              "            await google.colab.kernel.invokeFunction('convertToInteractive',\n",
              "                                                     [key], {});\n",
              "          if (!dataTable) return;\n",
              "\n",
              "          const docLinkHtml = 'Like what you see? Visit the ' +\n",
              "            '<a target=\"_blank\" href=https://colab.research.google.com/notebooks/data_table.ipynb>data table notebook</a>'\n",
              "            + ' to learn more about interactive tables.';\n",
              "          element.innerHTML = '';\n",
              "          dataTable['output_type'] = 'display_data';\n",
              "          await google.colab.output.renderOutput(dataTable, element);\n",
              "          const docLink = document.createElement('div');\n",
              "          docLink.innerHTML = docLinkHtml;\n",
              "          element.appendChild(docLink);\n",
              "        }\n",
              "      </script>\n",
              "    </div>\n",
              "  </div>\n",
              "  "
            ],
            "text/plain": [
              "      budget  ... vote_count\n",
              "0  237000000  ...      11800\n",
              "1  300000000  ...       4500\n",
              "\n",
              "[2 rows x 20 columns]"
            ]
          },
          "metadata": {},
          "execution_count": 243
        }
      ]
    },
    {
      "cell_type": "code",
      "source": [
        "credits_df.head(2)"
      ],
      "metadata": {
        "colab": {
          "base_uri": "https://localhost:8080/",
          "height": 112
        },
        "id": "2jqG3bYIK8fe",
        "outputId": "2334188c-5dc7-4850-c469-3c1938133414"
      },
      "execution_count": 244,
      "outputs": [
        {
          "output_type": "execute_result",
          "data": {
            "text/html": [
              "\n",
              "  <div id=\"df-243f40c7-ccd6-4cc8-b372-17b6f4ee2e73\">\n",
              "    <div class=\"colab-df-container\">\n",
              "      <div>\n",
              "<style scoped>\n",
              "    .dataframe tbody tr th:only-of-type {\n",
              "        vertical-align: middle;\n",
              "    }\n",
              "\n",
              "    .dataframe tbody tr th {\n",
              "        vertical-align: top;\n",
              "    }\n",
              "\n",
              "    .dataframe thead th {\n",
              "        text-align: right;\n",
              "    }\n",
              "</style>\n",
              "<table border=\"1\" class=\"dataframe\">\n",
              "  <thead>\n",
              "    <tr style=\"text-align: right;\">\n",
              "      <th></th>\n",
              "      <th>movie_id</th>\n",
              "      <th>title</th>\n",
              "      <th>cast</th>\n",
              "      <th>crew</th>\n",
              "    </tr>\n",
              "  </thead>\n",
              "  <tbody>\n",
              "    <tr>\n",
              "      <th>0</th>\n",
              "      <td>19995</td>\n",
              "      <td>Avatar</td>\n",
              "      <td>[{\"cast_id\": 242, \"character\": \"Jake Sully\", \"...</td>\n",
              "      <td>[{\"credit_id\": \"52fe48009251416c750aca23\", \"de...</td>\n",
              "    </tr>\n",
              "    <tr>\n",
              "      <th>1</th>\n",
              "      <td>285</td>\n",
              "      <td>Pirates of the Caribbean: At World's End</td>\n",
              "      <td>[{\"cast_id\": 4, \"character\": \"Captain Jack Spa...</td>\n",
              "      <td>[{\"credit_id\": \"52fe4232c3a36847f800b579\", \"de...</td>\n",
              "    </tr>\n",
              "  </tbody>\n",
              "</table>\n",
              "</div>\n",
              "      <button class=\"colab-df-convert\" onclick=\"convertToInteractive('df-243f40c7-ccd6-4cc8-b372-17b6f4ee2e73')\"\n",
              "              title=\"Convert this dataframe to an interactive table.\"\n",
              "              style=\"display:none;\">\n",
              "        \n",
              "  <svg xmlns=\"http://www.w3.org/2000/svg\" height=\"24px\"viewBox=\"0 0 24 24\"\n",
              "       width=\"24px\">\n",
              "    <path d=\"M0 0h24v24H0V0z\" fill=\"none\"/>\n",
              "    <path d=\"M18.56 5.44l.94 2.06.94-2.06 2.06-.94-2.06-.94-.94-2.06-.94 2.06-2.06.94zm-11 1L8.5 8.5l.94-2.06 2.06-.94-2.06-.94L8.5 2.5l-.94 2.06-2.06.94zm10 10l.94 2.06.94-2.06 2.06-.94-2.06-.94-.94-2.06-.94 2.06-2.06.94z\"/><path d=\"M17.41 7.96l-1.37-1.37c-.4-.4-.92-.59-1.43-.59-.52 0-1.04.2-1.43.59L10.3 9.45l-7.72 7.72c-.78.78-.78 2.05 0 2.83L4 21.41c.39.39.9.59 1.41.59.51 0 1.02-.2 1.41-.59l7.78-7.78 2.81-2.81c.8-.78.8-2.07 0-2.86zM5.41 20L4 18.59l7.72-7.72 1.47 1.35L5.41 20z\"/>\n",
              "  </svg>\n",
              "      </button>\n",
              "      \n",
              "  <style>\n",
              "    .colab-df-container {\n",
              "      display:flex;\n",
              "      flex-wrap:wrap;\n",
              "      gap: 12px;\n",
              "    }\n",
              "\n",
              "    .colab-df-convert {\n",
              "      background-color: #E8F0FE;\n",
              "      border: none;\n",
              "      border-radius: 50%;\n",
              "      cursor: pointer;\n",
              "      display: none;\n",
              "      fill: #1967D2;\n",
              "      height: 32px;\n",
              "      padding: 0 0 0 0;\n",
              "      width: 32px;\n",
              "    }\n",
              "\n",
              "    .colab-df-convert:hover {\n",
              "      background-color: #E2EBFA;\n",
              "      box-shadow: 0px 1px 2px rgba(60, 64, 67, 0.3), 0px 1px 3px 1px rgba(60, 64, 67, 0.15);\n",
              "      fill: #174EA6;\n",
              "    }\n",
              "\n",
              "    [theme=dark] .colab-df-convert {\n",
              "      background-color: #3B4455;\n",
              "      fill: #D2E3FC;\n",
              "    }\n",
              "\n",
              "    [theme=dark] .colab-df-convert:hover {\n",
              "      background-color: #434B5C;\n",
              "      box-shadow: 0px 1px 3px 1px rgba(0, 0, 0, 0.15);\n",
              "      filter: drop-shadow(0px 1px 2px rgba(0, 0, 0, 0.3));\n",
              "      fill: #FFFFFF;\n",
              "    }\n",
              "  </style>\n",
              "\n",
              "      <script>\n",
              "        const buttonEl =\n",
              "          document.querySelector('#df-243f40c7-ccd6-4cc8-b372-17b6f4ee2e73 button.colab-df-convert');\n",
              "        buttonEl.style.display =\n",
              "          google.colab.kernel.accessAllowed ? 'block' : 'none';\n",
              "\n",
              "        async function convertToInteractive(key) {\n",
              "          const element = document.querySelector('#df-243f40c7-ccd6-4cc8-b372-17b6f4ee2e73');\n",
              "          const dataTable =\n",
              "            await google.colab.kernel.invokeFunction('convertToInteractive',\n",
              "                                                     [key], {});\n",
              "          if (!dataTable) return;\n",
              "\n",
              "          const docLinkHtml = 'Like what you see? Visit the ' +\n",
              "            '<a target=\"_blank\" href=https://colab.research.google.com/notebooks/data_table.ipynb>data table notebook</a>'\n",
              "            + ' to learn more about interactive tables.';\n",
              "          element.innerHTML = '';\n",
              "          dataTable['output_type'] = 'display_data';\n",
              "          await google.colab.output.renderOutput(dataTable, element);\n",
              "          const docLink = document.createElement('div');\n",
              "          docLink.innerHTML = docLinkHtml;\n",
              "          element.appendChild(docLink);\n",
              "        }\n",
              "      </script>\n",
              "    </div>\n",
              "  </div>\n",
              "  "
            ],
            "text/plain": [
              "   movie_id  ...                                               crew\n",
              "0     19995  ...  [{\"credit_id\": \"52fe48009251416c750aca23\", \"de...\n",
              "1       285  ...  [{\"credit_id\": \"52fe4232c3a36847f800b579\", \"de...\n",
              "\n",
              "[2 rows x 4 columns]"
            ]
          },
          "metadata": {},
          "execution_count": 244
        }
      ]
    },
    {
      "cell_type": "markdown",
      "source": [
        "The id column in the movies df seems to have the same values as the movie_id column in the credits df (same for original_title in movies df and title in credits df). Let's check."
      ],
      "metadata": {
        "id": "wY2lvKz-L4Wc"
      }
    },
    {
      "cell_type": "code",
      "source": [
        "id_set = set(movies_df['id'])\n",
        "print(f\"There are {len(id_set)} unique ids in the movies dataframe\")\n",
        "movie_id_set = set(credits_df['movie_id'])\n",
        "print(f\"There are {len(movie_id_set)} unique movie ids in the credits dataframe\")"
      ],
      "metadata": {
        "colab": {
          "base_uri": "https://localhost:8080/"
        },
        "id": "cGDdWnQTMDsF",
        "outputId": "12c813d3-b451-4731-d1fe-c286dd756eac"
      },
      "execution_count": 245,
      "outputs": [
        {
          "output_type": "stream",
          "name": "stdout",
          "text": [
            "There are 4803 unique ids in the movies dataframe\n",
            "There are 4803 unique movie ids in the credits dataframe\n"
          ]
        }
      ]
    },
    {
      "cell_type": "code",
      "source": [
        "def are_identical_sets(setA, setB):\n",
        "  for elem in setA:\n",
        "    if elem not in setB:\n",
        "      return False\n",
        "  for elem in setB:\n",
        "    if elem not in setA:\n",
        "      return False\n",
        "  return True"
      ],
      "metadata": {
        "id": "Hbhawb_ANGEj"
      },
      "execution_count": 246,
      "outputs": []
    },
    {
      "cell_type": "code",
      "source": [
        "print(are_identical_sets(id_set, movie_id_set))"
      ],
      "metadata": {
        "colab": {
          "base_uri": "https://localhost:8080/"
        },
        "id": "W-4t7agWNQGa",
        "outputId": "fef1e88d-a48b-4c49-f286-280060c56889"
      },
      "execution_count": 247,
      "outputs": [
        {
          "output_type": "stream",
          "name": "stdout",
          "text": [
            "True\n"
          ]
        }
      ]
    },
    {
      "cell_type": "code",
      "source": [
        "movies_title_set = set(movies_df['title'])\n",
        "print(f\"There are {len(movies_title_set)} unique titles in the movies dataframe\")\n",
        "original_title_set = set(movies_df['original_title'])\n",
        "print(f\"There are {len(original_title_set)} unique original titles in the movies dataframe\")\n",
        "credits_title_set = set(credits_df['title'])\n",
        "print(f\"There are {len(credits_title_set)} unique titles in the credits dataframe\")"
      ],
      "metadata": {
        "colab": {
          "base_uri": "https://localhost:8080/"
        },
        "id": "UTG-IY8cNgSE",
        "outputId": "2873a5a2-4494-41ea-e014-b5c0c829c758"
      },
      "execution_count": 248,
      "outputs": [
        {
          "output_type": "stream",
          "name": "stdout",
          "text": [
            "There are 4800 unique titles in the movies dataframe\n",
            "There are 4801 unique original titles in the movies dataframe\n",
            "There are 4800 unique titles in the credits dataframe\n"
          ]
        }
      ]
    },
    {
      "cell_type": "code",
      "source": [
        "print(are_identical_sets(movies_title_set, credits_title_set))"
      ],
      "metadata": {
        "colab": {
          "base_uri": "https://localhost:8080/"
        },
        "id": "mJUId9kpW5Pl",
        "outputId": "6f8780f5-5a01-4ebc-93f3-9931f79ead38"
      },
      "execution_count": 249,
      "outputs": [
        {
          "output_type": "stream",
          "name": "stdout",
          "text": [
            "True\n"
          ]
        }
      ]
    },
    {
      "cell_type": "markdown",
      "source": [
        "Both datasets contain 4,803 examples but the movies df has 4,800 unique titles (and 4,801 unique original titles) while the credits df has 4,800 unique titles. \n",
        "Let's see the rows with duplicated titles in each dataframe."
      ],
      "metadata": {
        "id": "N97OtS6-PFIC"
      }
    },
    {
      "cell_type": "code",
      "source": [
        "movies_df[movies_df.duplicated(keep=False, subset=['title'])]"
      ],
      "metadata": {
        "colab": {
          "base_uri": "https://localhost:8080/",
          "height": 787
        },
        "id": "G9vzwfvwWM5l",
        "outputId": "2c70a5ba-522f-43eb-ab92-4dd24a34b64d"
      },
      "execution_count": 250,
      "outputs": [
        {
          "output_type": "execute_result",
          "data": {
            "text/html": [
              "\n",
              "  <div id=\"df-59a7361c-accb-4e25-a9a2-1ae5eb16baf1\">\n",
              "    <div class=\"colab-df-container\">\n",
              "      <div>\n",
              "<style scoped>\n",
              "    .dataframe tbody tr th:only-of-type {\n",
              "        vertical-align: middle;\n",
              "    }\n",
              "\n",
              "    .dataframe tbody tr th {\n",
              "        vertical-align: top;\n",
              "    }\n",
              "\n",
              "    .dataframe thead th {\n",
              "        text-align: right;\n",
              "    }\n",
              "</style>\n",
              "<table border=\"1\" class=\"dataframe\">\n",
              "  <thead>\n",
              "    <tr style=\"text-align: right;\">\n",
              "      <th></th>\n",
              "      <th>budget</th>\n",
              "      <th>genres</th>\n",
              "      <th>homepage</th>\n",
              "      <th>id</th>\n",
              "      <th>keywords</th>\n",
              "      <th>original_language</th>\n",
              "      <th>original_title</th>\n",
              "      <th>overview</th>\n",
              "      <th>popularity</th>\n",
              "      <th>production_companies</th>\n",
              "      <th>production_countries</th>\n",
              "      <th>release_date</th>\n",
              "      <th>revenue</th>\n",
              "      <th>runtime</th>\n",
              "      <th>spoken_languages</th>\n",
              "      <th>status</th>\n",
              "      <th>tagline</th>\n",
              "      <th>title</th>\n",
              "      <th>vote_average</th>\n",
              "      <th>vote_count</th>\n",
              "    </tr>\n",
              "  </thead>\n",
              "  <tbody>\n",
              "    <tr>\n",
              "      <th>972</th>\n",
              "      <td>44000000</td>\n",
              "      <td>[{\"id\": 28, \"name\": \"Action\"}, {\"id\": 12, \"nam...</td>\n",
              "      <td>NaN</td>\n",
              "      <td>72710</td>\n",
              "      <td>[{\"id\": 818, \"name\": \"based on novel\"}, {\"id\":...</td>\n",
              "      <td>en</td>\n",
              "      <td>The Host</td>\n",
              "      <td>A parasitic alien soul is injected into the bo...</td>\n",
              "      <td>42.933027</td>\n",
              "      <td>[{\"name\": \"Nick Wechsler Productions\", \"id\": 8...</td>\n",
              "      <td>[{\"iso_3166_1\": \"US\", \"name\": \"United States o...</td>\n",
              "      <td>2013-03-22</td>\n",
              "      <td>63327201</td>\n",
              "      <td>125.0</td>\n",
              "      <td>[{\"iso_639_1\": \"en\", \"name\": \"English\"}]</td>\n",
              "      <td>Released</td>\n",
              "      <td>You will be one of us</td>\n",
              "      <td>The Host</td>\n",
              "      <td>6.0</td>\n",
              "      <td>1817</td>\n",
              "    </tr>\n",
              "    <tr>\n",
              "      <th>1359</th>\n",
              "      <td>35000000</td>\n",
              "      <td>[{\"id\": 14, \"name\": \"Fantasy\"}, {\"id\": 28, \"na...</td>\n",
              "      <td>NaN</td>\n",
              "      <td>268</td>\n",
              "      <td>[{\"id\": 848, \"name\": \"double life\"}, {\"id\": 84...</td>\n",
              "      <td>en</td>\n",
              "      <td>Batman</td>\n",
              "      <td>The Dark Knight of Gotham City begins his war ...</td>\n",
              "      <td>44.104469</td>\n",
              "      <td>[{\"name\": \"PolyGram Filmed Entertainment\", \"id...</td>\n",
              "      <td>[{\"iso_3166_1\": \"GB\", \"name\": \"United Kingdom\"...</td>\n",
              "      <td>1989-06-23</td>\n",
              "      <td>411348924</td>\n",
              "      <td>126.0</td>\n",
              "      <td>[{\"iso_639_1\": \"en\", \"name\": \"English\"}, {\"iso...</td>\n",
              "      <td>Released</td>\n",
              "      <td>Have you ever danced with the devil in the pal...</td>\n",
              "      <td>Batman</td>\n",
              "      <td>7.0</td>\n",
              "      <td>2096</td>\n",
              "    </tr>\n",
              "    <tr>\n",
              "      <th>2877</th>\n",
              "      <td>11000000</td>\n",
              "      <td>[{\"id\": 27, \"name\": \"Horror\"}, {\"id\": 18, \"nam...</td>\n",
              "      <td>http://www.hostmovie.com/</td>\n",
              "      <td>1255</td>\n",
              "      <td>[{\"id\": 1261, \"name\": \"river\"}, {\"id\": 1880, \"...</td>\n",
              "      <td>ko</td>\n",
              "      <td>괴물</td>\n",
              "      <td>Gang-du is a dim-witted man working at his fat...</td>\n",
              "      <td>27.655270</td>\n",
              "      <td>[{\"name\": \"Cineclick Asia\", \"id\": 685}, {\"name...</td>\n",
              "      <td>[{\"iso_3166_1\": \"KR\", \"name\": \"South Korea\"}]</td>\n",
              "      <td>2006-07-27</td>\n",
              "      <td>88489643</td>\n",
              "      <td>119.0</td>\n",
              "      <td>[{\"iso_639_1\": \"ko\", \"name\": \"\\ud55c\\uad6d\\uc5...</td>\n",
              "      <td>Released</td>\n",
              "      <td>Monsters are real.</td>\n",
              "      <td>The Host</td>\n",
              "      <td>6.7</td>\n",
              "      <td>537</td>\n",
              "    </tr>\n",
              "    <tr>\n",
              "      <th>3647</th>\n",
              "      <td>0</td>\n",
              "      <td>[{\"id\": 18, \"name\": \"Drama\"}]</td>\n",
              "      <td>NaN</td>\n",
              "      <td>39269</td>\n",
              "      <td>[{\"id\": 4470, \"name\": \"punk\"}, {\"id\": 10183, \"...</td>\n",
              "      <td>en</td>\n",
              "      <td>Out of the Blue</td>\n",
              "      <td>Dennis Hopper is a hard-drinking truck driver ...</td>\n",
              "      <td>0.679351</td>\n",
              "      <td>[{\"name\": \"Robson Street\", \"id\": 71953}]</td>\n",
              "      <td>[{\"iso_3166_1\": \"CA\", \"name\": \"Canada\"}]</td>\n",
              "      <td>1980-05-01</td>\n",
              "      <td>0</td>\n",
              "      <td>94.0</td>\n",
              "      <td>[{\"iso_639_1\": \"en\", \"name\": \"English\"}]</td>\n",
              "      <td>Released</td>\n",
              "      <td>A harrowing drama from the director of Easy Rider</td>\n",
              "      <td>Out of the Blue</td>\n",
              "      <td>6.5</td>\n",
              "      <td>17</td>\n",
              "    </tr>\n",
              "    <tr>\n",
              "      <th>3693</th>\n",
              "      <td>0</td>\n",
              "      <td>[{\"id\": 18, \"name\": \"Drama\"}]</td>\n",
              "      <td>NaN</td>\n",
              "      <td>10844</td>\n",
              "      <td>[{\"id\": 2658, \"name\": \"new zealand\"}, {\"id\": 3...</td>\n",
              "      <td>en</td>\n",
              "      <td>Out of the Blue</td>\n",
              "      <td>Ordinary people find extraordinary courage in ...</td>\n",
              "      <td>0.706355</td>\n",
              "      <td>[]</td>\n",
              "      <td>[{\"iso_3166_1\": \"NZ\", \"name\": \"New Zealand\"}]</td>\n",
              "      <td>2006-10-12</td>\n",
              "      <td>0</td>\n",
              "      <td>103.0</td>\n",
              "      <td>[{\"iso_639_1\": \"en\", \"name\": \"English\"}]</td>\n",
              "      <td>Released</td>\n",
              "      <td>The true story of a small town massacre</td>\n",
              "      <td>Out of the Blue</td>\n",
              "      <td>5.9</td>\n",
              "      <td>18</td>\n",
              "    </tr>\n",
              "    <tr>\n",
              "      <th>4267</th>\n",
              "      <td>1377800</td>\n",
              "      <td>[{\"id\": 10751, \"name\": \"Family\"}, {\"id\": 12, \"...</td>\n",
              "      <td>NaN</td>\n",
              "      <td>2661</td>\n",
              "      <td>[{\"id\": 339, \"name\": \"submarine\"}, {\"id\": 849,...</td>\n",
              "      <td>en</td>\n",
              "      <td>Batman</td>\n",
              "      <td>The Dynamic Duo faces four super-villains who ...</td>\n",
              "      <td>9.815394</td>\n",
              "      <td>[{\"name\": \"Twentieth Century Fox Film Corporat...</td>\n",
              "      <td>[{\"iso_3166_1\": \"US\", \"name\": \"United States o...</td>\n",
              "      <td>1966-07-30</td>\n",
              "      <td>0</td>\n",
              "      <td>105.0</td>\n",
              "      <td>[{\"iso_639_1\": \"en\", \"name\": \"English\"}]</td>\n",
              "      <td>Released</td>\n",
              "      <td>He's Here Big As Life In A Real Bat-Epic</td>\n",
              "      <td>Batman</td>\n",
              "      <td>6.1</td>\n",
              "      <td>203</td>\n",
              "    </tr>\n",
              "  </tbody>\n",
              "</table>\n",
              "</div>\n",
              "      <button class=\"colab-df-convert\" onclick=\"convertToInteractive('df-59a7361c-accb-4e25-a9a2-1ae5eb16baf1')\"\n",
              "              title=\"Convert this dataframe to an interactive table.\"\n",
              "              style=\"display:none;\">\n",
              "        \n",
              "  <svg xmlns=\"http://www.w3.org/2000/svg\" height=\"24px\"viewBox=\"0 0 24 24\"\n",
              "       width=\"24px\">\n",
              "    <path d=\"M0 0h24v24H0V0z\" fill=\"none\"/>\n",
              "    <path d=\"M18.56 5.44l.94 2.06.94-2.06 2.06-.94-2.06-.94-.94-2.06-.94 2.06-2.06.94zm-11 1L8.5 8.5l.94-2.06 2.06-.94-2.06-.94L8.5 2.5l-.94 2.06-2.06.94zm10 10l.94 2.06.94-2.06 2.06-.94-2.06-.94-.94-2.06-.94 2.06-2.06.94z\"/><path d=\"M17.41 7.96l-1.37-1.37c-.4-.4-.92-.59-1.43-.59-.52 0-1.04.2-1.43.59L10.3 9.45l-7.72 7.72c-.78.78-.78 2.05 0 2.83L4 21.41c.39.39.9.59 1.41.59.51 0 1.02-.2 1.41-.59l7.78-7.78 2.81-2.81c.8-.78.8-2.07 0-2.86zM5.41 20L4 18.59l7.72-7.72 1.47 1.35L5.41 20z\"/>\n",
              "  </svg>\n",
              "      </button>\n",
              "      \n",
              "  <style>\n",
              "    .colab-df-container {\n",
              "      display:flex;\n",
              "      flex-wrap:wrap;\n",
              "      gap: 12px;\n",
              "    }\n",
              "\n",
              "    .colab-df-convert {\n",
              "      background-color: #E8F0FE;\n",
              "      border: none;\n",
              "      border-radius: 50%;\n",
              "      cursor: pointer;\n",
              "      display: none;\n",
              "      fill: #1967D2;\n",
              "      height: 32px;\n",
              "      padding: 0 0 0 0;\n",
              "      width: 32px;\n",
              "    }\n",
              "\n",
              "    .colab-df-convert:hover {\n",
              "      background-color: #E2EBFA;\n",
              "      box-shadow: 0px 1px 2px rgba(60, 64, 67, 0.3), 0px 1px 3px 1px rgba(60, 64, 67, 0.15);\n",
              "      fill: #174EA6;\n",
              "    }\n",
              "\n",
              "    [theme=dark] .colab-df-convert {\n",
              "      background-color: #3B4455;\n",
              "      fill: #D2E3FC;\n",
              "    }\n",
              "\n",
              "    [theme=dark] .colab-df-convert:hover {\n",
              "      background-color: #434B5C;\n",
              "      box-shadow: 0px 1px 3px 1px rgba(0, 0, 0, 0.15);\n",
              "      filter: drop-shadow(0px 1px 2px rgba(0, 0, 0, 0.3));\n",
              "      fill: #FFFFFF;\n",
              "    }\n",
              "  </style>\n",
              "\n",
              "      <script>\n",
              "        const buttonEl =\n",
              "          document.querySelector('#df-59a7361c-accb-4e25-a9a2-1ae5eb16baf1 button.colab-df-convert');\n",
              "        buttonEl.style.display =\n",
              "          google.colab.kernel.accessAllowed ? 'block' : 'none';\n",
              "\n",
              "        async function convertToInteractive(key) {\n",
              "          const element = document.querySelector('#df-59a7361c-accb-4e25-a9a2-1ae5eb16baf1');\n",
              "          const dataTable =\n",
              "            await google.colab.kernel.invokeFunction('convertToInteractive',\n",
              "                                                     [key], {});\n",
              "          if (!dataTable) return;\n",
              "\n",
              "          const docLinkHtml = 'Like what you see? Visit the ' +\n",
              "            '<a target=\"_blank\" href=https://colab.research.google.com/notebooks/data_table.ipynb>data table notebook</a>'\n",
              "            + ' to learn more about interactive tables.';\n",
              "          element.innerHTML = '';\n",
              "          dataTable['output_type'] = 'display_data';\n",
              "          await google.colab.output.renderOutput(dataTable, element);\n",
              "          const docLink = document.createElement('div');\n",
              "          docLink.innerHTML = docLinkHtml;\n",
              "          element.appendChild(docLink);\n",
              "        }\n",
              "      </script>\n",
              "    </div>\n",
              "  </div>\n",
              "  "
            ],
            "text/plain": [
              "        budget  ... vote_count\n",
              "972   44000000  ...       1817\n",
              "1359  35000000  ...       2096\n",
              "2877  11000000  ...        537\n",
              "3647         0  ...         17\n",
              "3693         0  ...         18\n",
              "4267   1377800  ...        203\n",
              "\n",
              "[6 rows x 20 columns]"
            ]
          },
          "metadata": {},
          "execution_count": 250
        }
      ]
    },
    {
      "cell_type": "code",
      "source": [
        "movies_df[movies_df.duplicated(keep=False, subset=['original_title'])]"
      ],
      "metadata": {
        "colab": {
          "base_uri": "https://localhost:8080/",
          "height": 586
        },
        "id": "li3cHwLJPio8",
        "outputId": "55a1dded-4eae-4ff0-a1db-626681fa558f"
      },
      "execution_count": 251,
      "outputs": [
        {
          "output_type": "execute_result",
          "data": {
            "text/html": [
              "\n",
              "  <div id=\"df-dc0132b7-cc13-47c6-a76c-03ea97254956\">\n",
              "    <div class=\"colab-df-container\">\n",
              "      <div>\n",
              "<style scoped>\n",
              "    .dataframe tbody tr th:only-of-type {\n",
              "        vertical-align: middle;\n",
              "    }\n",
              "\n",
              "    .dataframe tbody tr th {\n",
              "        vertical-align: top;\n",
              "    }\n",
              "\n",
              "    .dataframe thead th {\n",
              "        text-align: right;\n",
              "    }\n",
              "</style>\n",
              "<table border=\"1\" class=\"dataframe\">\n",
              "  <thead>\n",
              "    <tr style=\"text-align: right;\">\n",
              "      <th></th>\n",
              "      <th>budget</th>\n",
              "      <th>genres</th>\n",
              "      <th>homepage</th>\n",
              "      <th>id</th>\n",
              "      <th>keywords</th>\n",
              "      <th>original_language</th>\n",
              "      <th>original_title</th>\n",
              "      <th>overview</th>\n",
              "      <th>popularity</th>\n",
              "      <th>production_companies</th>\n",
              "      <th>production_countries</th>\n",
              "      <th>release_date</th>\n",
              "      <th>revenue</th>\n",
              "      <th>runtime</th>\n",
              "      <th>spoken_languages</th>\n",
              "      <th>status</th>\n",
              "      <th>tagline</th>\n",
              "      <th>title</th>\n",
              "      <th>vote_average</th>\n",
              "      <th>vote_count</th>\n",
              "    </tr>\n",
              "  </thead>\n",
              "  <tbody>\n",
              "    <tr>\n",
              "      <th>1359</th>\n",
              "      <td>35000000</td>\n",
              "      <td>[{\"id\": 14, \"name\": \"Fantasy\"}, {\"id\": 28, \"na...</td>\n",
              "      <td>NaN</td>\n",
              "      <td>268</td>\n",
              "      <td>[{\"id\": 848, \"name\": \"double life\"}, {\"id\": 84...</td>\n",
              "      <td>en</td>\n",
              "      <td>Batman</td>\n",
              "      <td>The Dark Knight of Gotham City begins his war ...</td>\n",
              "      <td>44.104469</td>\n",
              "      <td>[{\"name\": \"PolyGram Filmed Entertainment\", \"id...</td>\n",
              "      <td>[{\"iso_3166_1\": \"GB\", \"name\": \"United Kingdom\"...</td>\n",
              "      <td>1989-06-23</td>\n",
              "      <td>411348924</td>\n",
              "      <td>126.0</td>\n",
              "      <td>[{\"iso_639_1\": \"en\", \"name\": \"English\"}, {\"iso...</td>\n",
              "      <td>Released</td>\n",
              "      <td>Have you ever danced with the devil in the pal...</td>\n",
              "      <td>Batman</td>\n",
              "      <td>7.0</td>\n",
              "      <td>2096</td>\n",
              "    </tr>\n",
              "    <tr>\n",
              "      <th>3647</th>\n",
              "      <td>0</td>\n",
              "      <td>[{\"id\": 18, \"name\": \"Drama\"}]</td>\n",
              "      <td>NaN</td>\n",
              "      <td>39269</td>\n",
              "      <td>[{\"id\": 4470, \"name\": \"punk\"}, {\"id\": 10183, \"...</td>\n",
              "      <td>en</td>\n",
              "      <td>Out of the Blue</td>\n",
              "      <td>Dennis Hopper is a hard-drinking truck driver ...</td>\n",
              "      <td>0.679351</td>\n",
              "      <td>[{\"name\": \"Robson Street\", \"id\": 71953}]</td>\n",
              "      <td>[{\"iso_3166_1\": \"CA\", \"name\": \"Canada\"}]</td>\n",
              "      <td>1980-05-01</td>\n",
              "      <td>0</td>\n",
              "      <td>94.0</td>\n",
              "      <td>[{\"iso_639_1\": \"en\", \"name\": \"English\"}]</td>\n",
              "      <td>Released</td>\n",
              "      <td>A harrowing drama from the director of Easy Rider</td>\n",
              "      <td>Out of the Blue</td>\n",
              "      <td>6.5</td>\n",
              "      <td>17</td>\n",
              "    </tr>\n",
              "    <tr>\n",
              "      <th>3693</th>\n",
              "      <td>0</td>\n",
              "      <td>[{\"id\": 18, \"name\": \"Drama\"}]</td>\n",
              "      <td>NaN</td>\n",
              "      <td>10844</td>\n",
              "      <td>[{\"id\": 2658, \"name\": \"new zealand\"}, {\"id\": 3...</td>\n",
              "      <td>en</td>\n",
              "      <td>Out of the Blue</td>\n",
              "      <td>Ordinary people find extraordinary courage in ...</td>\n",
              "      <td>0.706355</td>\n",
              "      <td>[]</td>\n",
              "      <td>[{\"iso_3166_1\": \"NZ\", \"name\": \"New Zealand\"}]</td>\n",
              "      <td>2006-10-12</td>\n",
              "      <td>0</td>\n",
              "      <td>103.0</td>\n",
              "      <td>[{\"iso_639_1\": \"en\", \"name\": \"English\"}]</td>\n",
              "      <td>Released</td>\n",
              "      <td>The true story of a small town massacre</td>\n",
              "      <td>Out of the Blue</td>\n",
              "      <td>5.9</td>\n",
              "      <td>18</td>\n",
              "    </tr>\n",
              "    <tr>\n",
              "      <th>4267</th>\n",
              "      <td>1377800</td>\n",
              "      <td>[{\"id\": 10751, \"name\": \"Family\"}, {\"id\": 12, \"...</td>\n",
              "      <td>NaN</td>\n",
              "      <td>2661</td>\n",
              "      <td>[{\"id\": 339, \"name\": \"submarine\"}, {\"id\": 849,...</td>\n",
              "      <td>en</td>\n",
              "      <td>Batman</td>\n",
              "      <td>The Dynamic Duo faces four super-villains who ...</td>\n",
              "      <td>9.815394</td>\n",
              "      <td>[{\"name\": \"Twentieth Century Fox Film Corporat...</td>\n",
              "      <td>[{\"iso_3166_1\": \"US\", \"name\": \"United States o...</td>\n",
              "      <td>1966-07-30</td>\n",
              "      <td>0</td>\n",
              "      <td>105.0</td>\n",
              "      <td>[{\"iso_639_1\": \"en\", \"name\": \"English\"}]</td>\n",
              "      <td>Released</td>\n",
              "      <td>He's Here Big As Life In A Real Bat-Epic</td>\n",
              "      <td>Batman</td>\n",
              "      <td>6.1</td>\n",
              "      <td>203</td>\n",
              "    </tr>\n",
              "  </tbody>\n",
              "</table>\n",
              "</div>\n",
              "      <button class=\"colab-df-convert\" onclick=\"convertToInteractive('df-dc0132b7-cc13-47c6-a76c-03ea97254956')\"\n",
              "              title=\"Convert this dataframe to an interactive table.\"\n",
              "              style=\"display:none;\">\n",
              "        \n",
              "  <svg xmlns=\"http://www.w3.org/2000/svg\" height=\"24px\"viewBox=\"0 0 24 24\"\n",
              "       width=\"24px\">\n",
              "    <path d=\"M0 0h24v24H0V0z\" fill=\"none\"/>\n",
              "    <path d=\"M18.56 5.44l.94 2.06.94-2.06 2.06-.94-2.06-.94-.94-2.06-.94 2.06-2.06.94zm-11 1L8.5 8.5l.94-2.06 2.06-.94-2.06-.94L8.5 2.5l-.94 2.06-2.06.94zm10 10l.94 2.06.94-2.06 2.06-.94-2.06-.94-.94-2.06-.94 2.06-2.06.94z\"/><path d=\"M17.41 7.96l-1.37-1.37c-.4-.4-.92-.59-1.43-.59-.52 0-1.04.2-1.43.59L10.3 9.45l-7.72 7.72c-.78.78-.78 2.05 0 2.83L4 21.41c.39.39.9.59 1.41.59.51 0 1.02-.2 1.41-.59l7.78-7.78 2.81-2.81c.8-.78.8-2.07 0-2.86zM5.41 20L4 18.59l7.72-7.72 1.47 1.35L5.41 20z\"/>\n",
              "  </svg>\n",
              "      </button>\n",
              "      \n",
              "  <style>\n",
              "    .colab-df-container {\n",
              "      display:flex;\n",
              "      flex-wrap:wrap;\n",
              "      gap: 12px;\n",
              "    }\n",
              "\n",
              "    .colab-df-convert {\n",
              "      background-color: #E8F0FE;\n",
              "      border: none;\n",
              "      border-radius: 50%;\n",
              "      cursor: pointer;\n",
              "      display: none;\n",
              "      fill: #1967D2;\n",
              "      height: 32px;\n",
              "      padding: 0 0 0 0;\n",
              "      width: 32px;\n",
              "    }\n",
              "\n",
              "    .colab-df-convert:hover {\n",
              "      background-color: #E2EBFA;\n",
              "      box-shadow: 0px 1px 2px rgba(60, 64, 67, 0.3), 0px 1px 3px 1px rgba(60, 64, 67, 0.15);\n",
              "      fill: #174EA6;\n",
              "    }\n",
              "\n",
              "    [theme=dark] .colab-df-convert {\n",
              "      background-color: #3B4455;\n",
              "      fill: #D2E3FC;\n",
              "    }\n",
              "\n",
              "    [theme=dark] .colab-df-convert:hover {\n",
              "      background-color: #434B5C;\n",
              "      box-shadow: 0px 1px 3px 1px rgba(0, 0, 0, 0.15);\n",
              "      filter: drop-shadow(0px 1px 2px rgba(0, 0, 0, 0.3));\n",
              "      fill: #FFFFFF;\n",
              "    }\n",
              "  </style>\n",
              "\n",
              "      <script>\n",
              "        const buttonEl =\n",
              "          document.querySelector('#df-dc0132b7-cc13-47c6-a76c-03ea97254956 button.colab-df-convert');\n",
              "        buttonEl.style.display =\n",
              "          google.colab.kernel.accessAllowed ? 'block' : 'none';\n",
              "\n",
              "        async function convertToInteractive(key) {\n",
              "          const element = document.querySelector('#df-dc0132b7-cc13-47c6-a76c-03ea97254956');\n",
              "          const dataTable =\n",
              "            await google.colab.kernel.invokeFunction('convertToInteractive',\n",
              "                                                     [key], {});\n",
              "          if (!dataTable) return;\n",
              "\n",
              "          const docLinkHtml = 'Like what you see? Visit the ' +\n",
              "            '<a target=\"_blank\" href=https://colab.research.google.com/notebooks/data_table.ipynb>data table notebook</a>'\n",
              "            + ' to learn more about interactive tables.';\n",
              "          element.innerHTML = '';\n",
              "          dataTable['output_type'] = 'display_data';\n",
              "          await google.colab.output.renderOutput(dataTable, element);\n",
              "          const docLink = document.createElement('div');\n",
              "          docLink.innerHTML = docLinkHtml;\n",
              "          element.appendChild(docLink);\n",
              "        }\n",
              "      </script>\n",
              "    </div>\n",
              "  </div>\n",
              "  "
            ],
            "text/plain": [
              "        budget  ... vote_count\n",
              "1359  35000000  ...       2096\n",
              "3647         0  ...         17\n",
              "3693         0  ...         18\n",
              "4267   1377800  ...        203\n",
              "\n",
              "[4 rows x 20 columns]"
            ]
          },
          "metadata": {},
          "execution_count": 251
        }
      ]
    },
    {
      "cell_type": "code",
      "source": [
        "credits_df[credits_df.duplicated(keep=False, subset=['title'])]"
      ],
      "metadata": {
        "colab": {
          "base_uri": "https://localhost:8080/",
          "height": 238
        },
        "id": "whldxUjBRBJR",
        "outputId": "87d656bb-6486-4c95-8c6c-152d352a5fc2"
      },
      "execution_count": 252,
      "outputs": [
        {
          "output_type": "execute_result",
          "data": {
            "text/html": [
              "\n",
              "  <div id=\"df-f7bf1a1e-5060-4773-bbcc-acb4f92e7800\">\n",
              "    <div class=\"colab-df-container\">\n",
              "      <div>\n",
              "<style scoped>\n",
              "    .dataframe tbody tr th:only-of-type {\n",
              "        vertical-align: middle;\n",
              "    }\n",
              "\n",
              "    .dataframe tbody tr th {\n",
              "        vertical-align: top;\n",
              "    }\n",
              "\n",
              "    .dataframe thead th {\n",
              "        text-align: right;\n",
              "    }\n",
              "</style>\n",
              "<table border=\"1\" class=\"dataframe\">\n",
              "  <thead>\n",
              "    <tr style=\"text-align: right;\">\n",
              "      <th></th>\n",
              "      <th>movie_id</th>\n",
              "      <th>title</th>\n",
              "      <th>cast</th>\n",
              "      <th>crew</th>\n",
              "    </tr>\n",
              "  </thead>\n",
              "  <tbody>\n",
              "    <tr>\n",
              "      <th>972</th>\n",
              "      <td>72710</td>\n",
              "      <td>The Host</td>\n",
              "      <td>[{\"cast_id\": 52, \"character\": \"Melanie Stryder...</td>\n",
              "      <td>[{\"credit_id\": \"52fe487bc3a368484e0fa919\", \"de...</td>\n",
              "    </tr>\n",
              "    <tr>\n",
              "      <th>1359</th>\n",
              "      <td>268</td>\n",
              "      <td>Batman</td>\n",
              "      <td>[{\"cast_id\": 5, \"character\": \"Jack Napier/The ...</td>\n",
              "      <td>[{\"credit_id\": \"52fe422fc3a36847f800aa4b\", \"de...</td>\n",
              "    </tr>\n",
              "    <tr>\n",
              "      <th>2877</th>\n",
              "      <td>1255</td>\n",
              "      <td>The Host</td>\n",
              "      <td>[{\"cast_id\": 3, \"character\": \"Park Gang-du\", \"...</td>\n",
              "      <td>[{\"credit_id\": \"52fe42eac3a36847f802ca6b\", \"de...</td>\n",
              "    </tr>\n",
              "    <tr>\n",
              "      <th>3647</th>\n",
              "      <td>39269</td>\n",
              "      <td>Out of the Blue</td>\n",
              "      <td>[{\"cast_id\": 2, \"character\": \"Don\", \"credit_id...</td>\n",
              "      <td>[{\"credit_id\": \"52fe47099251416c9106826f\", \"de...</td>\n",
              "    </tr>\n",
              "    <tr>\n",
              "      <th>3693</th>\n",
              "      <td>10844</td>\n",
              "      <td>Out of the Blue</td>\n",
              "      <td>[{\"cast_id\": 12, \"character\": \"Nick Harvey\", \"...</td>\n",
              "      <td>[{\"credit_id\": \"52fe43c19251416c7501cceb\", \"de...</td>\n",
              "    </tr>\n",
              "    <tr>\n",
              "      <th>4267</th>\n",
              "      <td>2661</td>\n",
              "      <td>Batman</td>\n",
              "      <td>[{\"cast_id\": 17, \"character\": \"Batman / Bruce ...</td>\n",
              "      <td>[{\"credit_id\": \"52fe4363c3a36847f80509a7\", \"de...</td>\n",
              "    </tr>\n",
              "  </tbody>\n",
              "</table>\n",
              "</div>\n",
              "      <button class=\"colab-df-convert\" onclick=\"convertToInteractive('df-f7bf1a1e-5060-4773-bbcc-acb4f92e7800')\"\n",
              "              title=\"Convert this dataframe to an interactive table.\"\n",
              "              style=\"display:none;\">\n",
              "        \n",
              "  <svg xmlns=\"http://www.w3.org/2000/svg\" height=\"24px\"viewBox=\"0 0 24 24\"\n",
              "       width=\"24px\">\n",
              "    <path d=\"M0 0h24v24H0V0z\" fill=\"none\"/>\n",
              "    <path d=\"M18.56 5.44l.94 2.06.94-2.06 2.06-.94-2.06-.94-.94-2.06-.94 2.06-2.06.94zm-11 1L8.5 8.5l.94-2.06 2.06-.94-2.06-.94L8.5 2.5l-.94 2.06-2.06.94zm10 10l.94 2.06.94-2.06 2.06-.94-2.06-.94-.94-2.06-.94 2.06-2.06.94z\"/><path d=\"M17.41 7.96l-1.37-1.37c-.4-.4-.92-.59-1.43-.59-.52 0-1.04.2-1.43.59L10.3 9.45l-7.72 7.72c-.78.78-.78 2.05 0 2.83L4 21.41c.39.39.9.59 1.41.59.51 0 1.02-.2 1.41-.59l7.78-7.78 2.81-2.81c.8-.78.8-2.07 0-2.86zM5.41 20L4 18.59l7.72-7.72 1.47 1.35L5.41 20z\"/>\n",
              "  </svg>\n",
              "      </button>\n",
              "      \n",
              "  <style>\n",
              "    .colab-df-container {\n",
              "      display:flex;\n",
              "      flex-wrap:wrap;\n",
              "      gap: 12px;\n",
              "    }\n",
              "\n",
              "    .colab-df-convert {\n",
              "      background-color: #E8F0FE;\n",
              "      border: none;\n",
              "      border-radius: 50%;\n",
              "      cursor: pointer;\n",
              "      display: none;\n",
              "      fill: #1967D2;\n",
              "      height: 32px;\n",
              "      padding: 0 0 0 0;\n",
              "      width: 32px;\n",
              "    }\n",
              "\n",
              "    .colab-df-convert:hover {\n",
              "      background-color: #E2EBFA;\n",
              "      box-shadow: 0px 1px 2px rgba(60, 64, 67, 0.3), 0px 1px 3px 1px rgba(60, 64, 67, 0.15);\n",
              "      fill: #174EA6;\n",
              "    }\n",
              "\n",
              "    [theme=dark] .colab-df-convert {\n",
              "      background-color: #3B4455;\n",
              "      fill: #D2E3FC;\n",
              "    }\n",
              "\n",
              "    [theme=dark] .colab-df-convert:hover {\n",
              "      background-color: #434B5C;\n",
              "      box-shadow: 0px 1px 3px 1px rgba(0, 0, 0, 0.15);\n",
              "      filter: drop-shadow(0px 1px 2px rgba(0, 0, 0, 0.3));\n",
              "      fill: #FFFFFF;\n",
              "    }\n",
              "  </style>\n",
              "\n",
              "      <script>\n",
              "        const buttonEl =\n",
              "          document.querySelector('#df-f7bf1a1e-5060-4773-bbcc-acb4f92e7800 button.colab-df-convert');\n",
              "        buttonEl.style.display =\n",
              "          google.colab.kernel.accessAllowed ? 'block' : 'none';\n",
              "\n",
              "        async function convertToInteractive(key) {\n",
              "          const element = document.querySelector('#df-f7bf1a1e-5060-4773-bbcc-acb4f92e7800');\n",
              "          const dataTable =\n",
              "            await google.colab.kernel.invokeFunction('convertToInteractive',\n",
              "                                                     [key], {});\n",
              "          if (!dataTable) return;\n",
              "\n",
              "          const docLinkHtml = 'Like what you see? Visit the ' +\n",
              "            '<a target=\"_blank\" href=https://colab.research.google.com/notebooks/data_table.ipynb>data table notebook</a>'\n",
              "            + ' to learn more about interactive tables.';\n",
              "          element.innerHTML = '';\n",
              "          dataTable['output_type'] = 'display_data';\n",
              "          await google.colab.output.renderOutput(dataTable, element);\n",
              "          const docLink = document.createElement('div');\n",
              "          docLink.innerHTML = docLinkHtml;\n",
              "          element.appendChild(docLink);\n",
              "        }\n",
              "      </script>\n",
              "    </div>\n",
              "  </div>\n",
              "  "
            ],
            "text/plain": [
              "      movie_id  ...                                               crew\n",
              "972      72710  ...  [{\"credit_id\": \"52fe487bc3a368484e0fa919\", \"de...\n",
              "1359       268  ...  [{\"credit_id\": \"52fe422fc3a36847f800aa4b\", \"de...\n",
              "2877      1255  ...  [{\"credit_id\": \"52fe42eac3a36847f802ca6b\", \"de...\n",
              "3647     39269  ...  [{\"credit_id\": \"52fe47099251416c9106826f\", \"de...\n",
              "3693     10844  ...  [{\"credit_id\": \"52fe43c19251416c7501cceb\", \"de...\n",
              "4267      2661  ...  [{\"credit_id\": \"52fe4363c3a36847f80509a7\", \"de...\n",
              "\n",
              "[6 rows x 4 columns]"
            ]
          },
          "metadata": {},
          "execution_count": 252
        }
      ]
    },
    {
      "cell_type": "markdown",
      "source": [
        "It seems they were simply movies with the same title :)\n",
        "It's interesting to note that even though there are 2 movies with the title 'Host', one of them has the original title written in Korean language."
      ],
      "metadata": {
        "id": "WbjRcbwLRQEw"
      }
    },
    {
      "cell_type": "code",
      "source": [
        "movies_df[movies_df['id'] == 72710]"
      ],
      "metadata": {
        "colab": {
          "base_uri": "https://localhost:8080/",
          "height": 249
        },
        "id": "VnHJuLZCRZHG",
        "outputId": "2c264eb6-b6d2-4e0e-9516-ef5e92a6564d"
      },
      "execution_count": 253,
      "outputs": [
        {
          "output_type": "execute_result",
          "data": {
            "text/html": [
              "\n",
              "  <div id=\"df-1d97840c-da41-4edb-aa94-a9ba663bebe3\">\n",
              "    <div class=\"colab-df-container\">\n",
              "      <div>\n",
              "<style scoped>\n",
              "    .dataframe tbody tr th:only-of-type {\n",
              "        vertical-align: middle;\n",
              "    }\n",
              "\n",
              "    .dataframe tbody tr th {\n",
              "        vertical-align: top;\n",
              "    }\n",
              "\n",
              "    .dataframe thead th {\n",
              "        text-align: right;\n",
              "    }\n",
              "</style>\n",
              "<table border=\"1\" class=\"dataframe\">\n",
              "  <thead>\n",
              "    <tr style=\"text-align: right;\">\n",
              "      <th></th>\n",
              "      <th>budget</th>\n",
              "      <th>genres</th>\n",
              "      <th>homepage</th>\n",
              "      <th>id</th>\n",
              "      <th>keywords</th>\n",
              "      <th>original_language</th>\n",
              "      <th>original_title</th>\n",
              "      <th>overview</th>\n",
              "      <th>popularity</th>\n",
              "      <th>production_companies</th>\n",
              "      <th>production_countries</th>\n",
              "      <th>release_date</th>\n",
              "      <th>revenue</th>\n",
              "      <th>runtime</th>\n",
              "      <th>spoken_languages</th>\n",
              "      <th>status</th>\n",
              "      <th>tagline</th>\n",
              "      <th>title</th>\n",
              "      <th>vote_average</th>\n",
              "      <th>vote_count</th>\n",
              "    </tr>\n",
              "  </thead>\n",
              "  <tbody>\n",
              "    <tr>\n",
              "      <th>972</th>\n",
              "      <td>44000000</td>\n",
              "      <td>[{\"id\": 28, \"name\": \"Action\"}, {\"id\": 12, \"nam...</td>\n",
              "      <td>NaN</td>\n",
              "      <td>72710</td>\n",
              "      <td>[{\"id\": 818, \"name\": \"based on novel\"}, {\"id\":...</td>\n",
              "      <td>en</td>\n",
              "      <td>The Host</td>\n",
              "      <td>A parasitic alien soul is injected into the bo...</td>\n",
              "      <td>42.933027</td>\n",
              "      <td>[{\"name\": \"Nick Wechsler Productions\", \"id\": 8...</td>\n",
              "      <td>[{\"iso_3166_1\": \"US\", \"name\": \"United States o...</td>\n",
              "      <td>2013-03-22</td>\n",
              "      <td>63327201</td>\n",
              "      <td>125.0</td>\n",
              "      <td>[{\"iso_639_1\": \"en\", \"name\": \"English\"}]</td>\n",
              "      <td>Released</td>\n",
              "      <td>You will be one of us</td>\n",
              "      <td>The Host</td>\n",
              "      <td>6.0</td>\n",
              "      <td>1817</td>\n",
              "    </tr>\n",
              "  </tbody>\n",
              "</table>\n",
              "</div>\n",
              "      <button class=\"colab-df-convert\" onclick=\"convertToInteractive('df-1d97840c-da41-4edb-aa94-a9ba663bebe3')\"\n",
              "              title=\"Convert this dataframe to an interactive table.\"\n",
              "              style=\"display:none;\">\n",
              "        \n",
              "  <svg xmlns=\"http://www.w3.org/2000/svg\" height=\"24px\"viewBox=\"0 0 24 24\"\n",
              "       width=\"24px\">\n",
              "    <path d=\"M0 0h24v24H0V0z\" fill=\"none\"/>\n",
              "    <path d=\"M18.56 5.44l.94 2.06.94-2.06 2.06-.94-2.06-.94-.94-2.06-.94 2.06-2.06.94zm-11 1L8.5 8.5l.94-2.06 2.06-.94-2.06-.94L8.5 2.5l-.94 2.06-2.06.94zm10 10l.94 2.06.94-2.06 2.06-.94-2.06-.94-.94-2.06-.94 2.06-2.06.94z\"/><path d=\"M17.41 7.96l-1.37-1.37c-.4-.4-.92-.59-1.43-.59-.52 0-1.04.2-1.43.59L10.3 9.45l-7.72 7.72c-.78.78-.78 2.05 0 2.83L4 21.41c.39.39.9.59 1.41.59.51 0 1.02-.2 1.41-.59l7.78-7.78 2.81-2.81c.8-.78.8-2.07 0-2.86zM5.41 20L4 18.59l7.72-7.72 1.47 1.35L5.41 20z\"/>\n",
              "  </svg>\n",
              "      </button>\n",
              "      \n",
              "  <style>\n",
              "    .colab-df-container {\n",
              "      display:flex;\n",
              "      flex-wrap:wrap;\n",
              "      gap: 12px;\n",
              "    }\n",
              "\n",
              "    .colab-df-convert {\n",
              "      background-color: #E8F0FE;\n",
              "      border: none;\n",
              "      border-radius: 50%;\n",
              "      cursor: pointer;\n",
              "      display: none;\n",
              "      fill: #1967D2;\n",
              "      height: 32px;\n",
              "      padding: 0 0 0 0;\n",
              "      width: 32px;\n",
              "    }\n",
              "\n",
              "    .colab-df-convert:hover {\n",
              "      background-color: #E2EBFA;\n",
              "      box-shadow: 0px 1px 2px rgba(60, 64, 67, 0.3), 0px 1px 3px 1px rgba(60, 64, 67, 0.15);\n",
              "      fill: #174EA6;\n",
              "    }\n",
              "\n",
              "    [theme=dark] .colab-df-convert {\n",
              "      background-color: #3B4455;\n",
              "      fill: #D2E3FC;\n",
              "    }\n",
              "\n",
              "    [theme=dark] .colab-df-convert:hover {\n",
              "      background-color: #434B5C;\n",
              "      box-shadow: 0px 1px 3px 1px rgba(0, 0, 0, 0.15);\n",
              "      filter: drop-shadow(0px 1px 2px rgba(0, 0, 0, 0.3));\n",
              "      fill: #FFFFFF;\n",
              "    }\n",
              "  </style>\n",
              "\n",
              "      <script>\n",
              "        const buttonEl =\n",
              "          document.querySelector('#df-1d97840c-da41-4edb-aa94-a9ba663bebe3 button.colab-df-convert');\n",
              "        buttonEl.style.display =\n",
              "          google.colab.kernel.accessAllowed ? 'block' : 'none';\n",
              "\n",
              "        async function convertToInteractive(key) {\n",
              "          const element = document.querySelector('#df-1d97840c-da41-4edb-aa94-a9ba663bebe3');\n",
              "          const dataTable =\n",
              "            await google.colab.kernel.invokeFunction('convertToInteractive',\n",
              "                                                     [key], {});\n",
              "          if (!dataTable) return;\n",
              "\n",
              "          const docLinkHtml = 'Like what you see? Visit the ' +\n",
              "            '<a target=\"_blank\" href=https://colab.research.google.com/notebooks/data_table.ipynb>data table notebook</a>'\n",
              "            + ' to learn more about interactive tables.';\n",
              "          element.innerHTML = '';\n",
              "          dataTable['output_type'] = 'display_data';\n",
              "          await google.colab.output.renderOutput(dataTable, element);\n",
              "          const docLink = document.createElement('div');\n",
              "          docLink.innerHTML = docLinkHtml;\n",
              "          element.appendChild(docLink);\n",
              "        }\n",
              "      </script>\n",
              "    </div>\n",
              "  </div>\n",
              "  "
            ],
            "text/plain": [
              "       budget  ... vote_count\n",
              "972  44000000  ...       1817\n",
              "\n",
              "[1 rows x 20 columns]"
            ]
          },
          "metadata": {},
          "execution_count": 253
        }
      ]
    },
    {
      "cell_type": "code",
      "source": [
        "movies_df[movies_df['id'] == 1255]"
      ],
      "metadata": {
        "colab": {
          "base_uri": "https://localhost:8080/",
          "height": 249
        },
        "id": "RC_kpXMwSPyg",
        "outputId": "f5697072-ef67-4d5e-be16-974f9741fce2"
      },
      "execution_count": 254,
      "outputs": [
        {
          "output_type": "execute_result",
          "data": {
            "text/html": [
              "\n",
              "  <div id=\"df-95431f6b-03bc-49ac-9989-9095f7900d66\">\n",
              "    <div class=\"colab-df-container\">\n",
              "      <div>\n",
              "<style scoped>\n",
              "    .dataframe tbody tr th:only-of-type {\n",
              "        vertical-align: middle;\n",
              "    }\n",
              "\n",
              "    .dataframe tbody tr th {\n",
              "        vertical-align: top;\n",
              "    }\n",
              "\n",
              "    .dataframe thead th {\n",
              "        text-align: right;\n",
              "    }\n",
              "</style>\n",
              "<table border=\"1\" class=\"dataframe\">\n",
              "  <thead>\n",
              "    <tr style=\"text-align: right;\">\n",
              "      <th></th>\n",
              "      <th>budget</th>\n",
              "      <th>genres</th>\n",
              "      <th>homepage</th>\n",
              "      <th>id</th>\n",
              "      <th>keywords</th>\n",
              "      <th>original_language</th>\n",
              "      <th>original_title</th>\n",
              "      <th>overview</th>\n",
              "      <th>popularity</th>\n",
              "      <th>production_companies</th>\n",
              "      <th>production_countries</th>\n",
              "      <th>release_date</th>\n",
              "      <th>revenue</th>\n",
              "      <th>runtime</th>\n",
              "      <th>spoken_languages</th>\n",
              "      <th>status</th>\n",
              "      <th>tagline</th>\n",
              "      <th>title</th>\n",
              "      <th>vote_average</th>\n",
              "      <th>vote_count</th>\n",
              "    </tr>\n",
              "  </thead>\n",
              "  <tbody>\n",
              "    <tr>\n",
              "      <th>2877</th>\n",
              "      <td>11000000</td>\n",
              "      <td>[{\"id\": 27, \"name\": \"Horror\"}, {\"id\": 18, \"nam...</td>\n",
              "      <td>http://www.hostmovie.com/</td>\n",
              "      <td>1255</td>\n",
              "      <td>[{\"id\": 1261, \"name\": \"river\"}, {\"id\": 1880, \"...</td>\n",
              "      <td>ko</td>\n",
              "      <td>괴물</td>\n",
              "      <td>Gang-du is a dim-witted man working at his fat...</td>\n",
              "      <td>27.65527</td>\n",
              "      <td>[{\"name\": \"Cineclick Asia\", \"id\": 685}, {\"name...</td>\n",
              "      <td>[{\"iso_3166_1\": \"KR\", \"name\": \"South Korea\"}]</td>\n",
              "      <td>2006-07-27</td>\n",
              "      <td>88489643</td>\n",
              "      <td>119.0</td>\n",
              "      <td>[{\"iso_639_1\": \"ko\", \"name\": \"\\ud55c\\uad6d\\uc5...</td>\n",
              "      <td>Released</td>\n",
              "      <td>Monsters are real.</td>\n",
              "      <td>The Host</td>\n",
              "      <td>6.7</td>\n",
              "      <td>537</td>\n",
              "    </tr>\n",
              "  </tbody>\n",
              "</table>\n",
              "</div>\n",
              "      <button class=\"colab-df-convert\" onclick=\"convertToInteractive('df-95431f6b-03bc-49ac-9989-9095f7900d66')\"\n",
              "              title=\"Convert this dataframe to an interactive table.\"\n",
              "              style=\"display:none;\">\n",
              "        \n",
              "  <svg xmlns=\"http://www.w3.org/2000/svg\" height=\"24px\"viewBox=\"0 0 24 24\"\n",
              "       width=\"24px\">\n",
              "    <path d=\"M0 0h24v24H0V0z\" fill=\"none\"/>\n",
              "    <path d=\"M18.56 5.44l.94 2.06.94-2.06 2.06-.94-2.06-.94-.94-2.06-.94 2.06-2.06.94zm-11 1L8.5 8.5l.94-2.06 2.06-.94-2.06-.94L8.5 2.5l-.94 2.06-2.06.94zm10 10l.94 2.06.94-2.06 2.06-.94-2.06-.94-.94-2.06-.94 2.06-2.06.94z\"/><path d=\"M17.41 7.96l-1.37-1.37c-.4-.4-.92-.59-1.43-.59-.52 0-1.04.2-1.43.59L10.3 9.45l-7.72 7.72c-.78.78-.78 2.05 0 2.83L4 21.41c.39.39.9.59 1.41.59.51 0 1.02-.2 1.41-.59l7.78-7.78 2.81-2.81c.8-.78.8-2.07 0-2.86zM5.41 20L4 18.59l7.72-7.72 1.47 1.35L5.41 20z\"/>\n",
              "  </svg>\n",
              "      </button>\n",
              "      \n",
              "  <style>\n",
              "    .colab-df-container {\n",
              "      display:flex;\n",
              "      flex-wrap:wrap;\n",
              "      gap: 12px;\n",
              "    }\n",
              "\n",
              "    .colab-df-convert {\n",
              "      background-color: #E8F0FE;\n",
              "      border: none;\n",
              "      border-radius: 50%;\n",
              "      cursor: pointer;\n",
              "      display: none;\n",
              "      fill: #1967D2;\n",
              "      height: 32px;\n",
              "      padding: 0 0 0 0;\n",
              "      width: 32px;\n",
              "    }\n",
              "\n",
              "    .colab-df-convert:hover {\n",
              "      background-color: #E2EBFA;\n",
              "      box-shadow: 0px 1px 2px rgba(60, 64, 67, 0.3), 0px 1px 3px 1px rgba(60, 64, 67, 0.15);\n",
              "      fill: #174EA6;\n",
              "    }\n",
              "\n",
              "    [theme=dark] .colab-df-convert {\n",
              "      background-color: #3B4455;\n",
              "      fill: #D2E3FC;\n",
              "    }\n",
              "\n",
              "    [theme=dark] .colab-df-convert:hover {\n",
              "      background-color: #434B5C;\n",
              "      box-shadow: 0px 1px 3px 1px rgba(0, 0, 0, 0.15);\n",
              "      filter: drop-shadow(0px 1px 2px rgba(0, 0, 0, 0.3));\n",
              "      fill: #FFFFFF;\n",
              "    }\n",
              "  </style>\n",
              "\n",
              "      <script>\n",
              "        const buttonEl =\n",
              "          document.querySelector('#df-95431f6b-03bc-49ac-9989-9095f7900d66 button.colab-df-convert');\n",
              "        buttonEl.style.display =\n",
              "          google.colab.kernel.accessAllowed ? 'block' : 'none';\n",
              "\n",
              "        async function convertToInteractive(key) {\n",
              "          const element = document.querySelector('#df-95431f6b-03bc-49ac-9989-9095f7900d66');\n",
              "          const dataTable =\n",
              "            await google.colab.kernel.invokeFunction('convertToInteractive',\n",
              "                                                     [key], {});\n",
              "          if (!dataTable) return;\n",
              "\n",
              "          const docLinkHtml = 'Like what you see? Visit the ' +\n",
              "            '<a target=\"_blank\" href=https://colab.research.google.com/notebooks/data_table.ipynb>data table notebook</a>'\n",
              "            + ' to learn more about interactive tables.';\n",
              "          element.innerHTML = '';\n",
              "          dataTable['output_type'] = 'display_data';\n",
              "          await google.colab.output.renderOutput(dataTable, element);\n",
              "          const docLink = document.createElement('div');\n",
              "          docLink.innerHTML = docLinkHtml;\n",
              "          element.appendChild(docLink);\n",
              "        }\n",
              "      </script>\n",
              "    </div>\n",
              "  </div>\n",
              "  "
            ],
            "text/plain": [
              "        budget  ... vote_count\n",
              "2877  11000000  ...        537\n",
              "\n",
              "[1 rows x 20 columns]"
            ]
          },
          "metadata": {},
          "execution_count": 254
        }
      ]
    },
    {
      "cell_type": "markdown",
      "source": [
        "So 'original_title' can be in a language other than english."
      ],
      "metadata": {
        "id": "PklKK7yfS_In"
      }
    },
    {
      "cell_type": "markdown",
      "source": [
        "Given that the ids match perfectly in both dataframes, we can combine both dfs based on that column (keep a unified name for the column). We can also drop one of 'title' and 'original_title' (the latter, as it can have names in different languages) as we do not need both. Given that there are two 'title' columns (one in each df), we can drop one of them as they are identical (checked above)."
      ],
      "metadata": {
        "id": "d2ht7hm8TV6m"
      }
    },
    {
      "cell_type": "code",
      "source": [
        "credits_df_new = credits_df.rename(columns={'movie_id': 'id'})\n",
        "credits_df_new.drop(columns=['title'], inplace=True)\n",
        "df = pd.merge(movies_df, credits_df_new, on='id')\n",
        "df.drop(columns=['original_title'], inplace=True)\n",
        "df.head(3)"
      ],
      "metadata": {
        "colab": {
          "base_uri": "https://localhost:8080/",
          "height": 502
        },
        "id": "XKb6Vt4iTrkk",
        "outputId": "538c45fb-c278-48d3-ea97-01c51164f814"
      },
      "execution_count": 255,
      "outputs": [
        {
          "output_type": "execute_result",
          "data": {
            "text/html": [
              "\n",
              "  <div id=\"df-acd76ca6-73f5-412c-8ec2-d085f65b5364\">\n",
              "    <div class=\"colab-df-container\">\n",
              "      <div>\n",
              "<style scoped>\n",
              "    .dataframe tbody tr th:only-of-type {\n",
              "        vertical-align: middle;\n",
              "    }\n",
              "\n",
              "    .dataframe tbody tr th {\n",
              "        vertical-align: top;\n",
              "    }\n",
              "\n",
              "    .dataframe thead th {\n",
              "        text-align: right;\n",
              "    }\n",
              "</style>\n",
              "<table border=\"1\" class=\"dataframe\">\n",
              "  <thead>\n",
              "    <tr style=\"text-align: right;\">\n",
              "      <th></th>\n",
              "      <th>budget</th>\n",
              "      <th>genres</th>\n",
              "      <th>homepage</th>\n",
              "      <th>id</th>\n",
              "      <th>keywords</th>\n",
              "      <th>original_language</th>\n",
              "      <th>overview</th>\n",
              "      <th>popularity</th>\n",
              "      <th>production_companies</th>\n",
              "      <th>production_countries</th>\n",
              "      <th>release_date</th>\n",
              "      <th>revenue</th>\n",
              "      <th>runtime</th>\n",
              "      <th>spoken_languages</th>\n",
              "      <th>status</th>\n",
              "      <th>tagline</th>\n",
              "      <th>title</th>\n",
              "      <th>vote_average</th>\n",
              "      <th>vote_count</th>\n",
              "      <th>cast</th>\n",
              "      <th>crew</th>\n",
              "    </tr>\n",
              "  </thead>\n",
              "  <tbody>\n",
              "    <tr>\n",
              "      <th>0</th>\n",
              "      <td>237000000</td>\n",
              "      <td>[{\"id\": 28, \"name\": \"Action\"}, {\"id\": 12, \"nam...</td>\n",
              "      <td>http://www.avatarmovie.com/</td>\n",
              "      <td>19995</td>\n",
              "      <td>[{\"id\": 1463, \"name\": \"culture clash\"}, {\"id\":...</td>\n",
              "      <td>en</td>\n",
              "      <td>In the 22nd century, a paraplegic Marine is di...</td>\n",
              "      <td>150.437577</td>\n",
              "      <td>[{\"name\": \"Ingenious Film Partners\", \"id\": 289...</td>\n",
              "      <td>[{\"iso_3166_1\": \"US\", \"name\": \"United States o...</td>\n",
              "      <td>2009-12-10</td>\n",
              "      <td>2787965087</td>\n",
              "      <td>162.0</td>\n",
              "      <td>[{\"iso_639_1\": \"en\", \"name\": \"English\"}, {\"iso...</td>\n",
              "      <td>Released</td>\n",
              "      <td>Enter the World of Pandora.</td>\n",
              "      <td>Avatar</td>\n",
              "      <td>7.2</td>\n",
              "      <td>11800</td>\n",
              "      <td>[{\"cast_id\": 242, \"character\": \"Jake Sully\", \"...</td>\n",
              "      <td>[{\"credit_id\": \"52fe48009251416c750aca23\", \"de...</td>\n",
              "    </tr>\n",
              "    <tr>\n",
              "      <th>1</th>\n",
              "      <td>300000000</td>\n",
              "      <td>[{\"id\": 12, \"name\": \"Adventure\"}, {\"id\": 14, \"...</td>\n",
              "      <td>http://disney.go.com/disneypictures/pirates/</td>\n",
              "      <td>285</td>\n",
              "      <td>[{\"id\": 270, \"name\": \"ocean\"}, {\"id\": 726, \"na...</td>\n",
              "      <td>en</td>\n",
              "      <td>Captain Barbossa, long believed to be dead, ha...</td>\n",
              "      <td>139.082615</td>\n",
              "      <td>[{\"name\": \"Walt Disney Pictures\", \"id\": 2}, {\"...</td>\n",
              "      <td>[{\"iso_3166_1\": \"US\", \"name\": \"United States o...</td>\n",
              "      <td>2007-05-19</td>\n",
              "      <td>961000000</td>\n",
              "      <td>169.0</td>\n",
              "      <td>[{\"iso_639_1\": \"en\", \"name\": \"English\"}]</td>\n",
              "      <td>Released</td>\n",
              "      <td>At the end of the world, the adventure begins.</td>\n",
              "      <td>Pirates of the Caribbean: At World's End</td>\n",
              "      <td>6.9</td>\n",
              "      <td>4500</td>\n",
              "      <td>[{\"cast_id\": 4, \"character\": \"Captain Jack Spa...</td>\n",
              "      <td>[{\"credit_id\": \"52fe4232c3a36847f800b579\", \"de...</td>\n",
              "    </tr>\n",
              "    <tr>\n",
              "      <th>2</th>\n",
              "      <td>245000000</td>\n",
              "      <td>[{\"id\": 28, \"name\": \"Action\"}, {\"id\": 12, \"nam...</td>\n",
              "      <td>http://www.sonypictures.com/movies/spectre/</td>\n",
              "      <td>206647</td>\n",
              "      <td>[{\"id\": 470, \"name\": \"spy\"}, {\"id\": 818, \"name...</td>\n",
              "      <td>en</td>\n",
              "      <td>A cryptic message from Bond’s past sends him o...</td>\n",
              "      <td>107.376788</td>\n",
              "      <td>[{\"name\": \"Columbia Pictures\", \"id\": 5}, {\"nam...</td>\n",
              "      <td>[{\"iso_3166_1\": \"GB\", \"name\": \"United Kingdom\"...</td>\n",
              "      <td>2015-10-26</td>\n",
              "      <td>880674609</td>\n",
              "      <td>148.0</td>\n",
              "      <td>[{\"iso_639_1\": \"fr\", \"name\": \"Fran\\u00e7ais\"},...</td>\n",
              "      <td>Released</td>\n",
              "      <td>A Plan No One Escapes</td>\n",
              "      <td>Spectre</td>\n",
              "      <td>6.3</td>\n",
              "      <td>4466</td>\n",
              "      <td>[{\"cast_id\": 1, \"character\": \"James Bond\", \"cr...</td>\n",
              "      <td>[{\"credit_id\": \"54805967c3a36829b5002c41\", \"de...</td>\n",
              "    </tr>\n",
              "  </tbody>\n",
              "</table>\n",
              "</div>\n",
              "      <button class=\"colab-df-convert\" onclick=\"convertToInteractive('df-acd76ca6-73f5-412c-8ec2-d085f65b5364')\"\n",
              "              title=\"Convert this dataframe to an interactive table.\"\n",
              "              style=\"display:none;\">\n",
              "        \n",
              "  <svg xmlns=\"http://www.w3.org/2000/svg\" height=\"24px\"viewBox=\"0 0 24 24\"\n",
              "       width=\"24px\">\n",
              "    <path d=\"M0 0h24v24H0V0z\" fill=\"none\"/>\n",
              "    <path d=\"M18.56 5.44l.94 2.06.94-2.06 2.06-.94-2.06-.94-.94-2.06-.94 2.06-2.06.94zm-11 1L8.5 8.5l.94-2.06 2.06-.94-2.06-.94L8.5 2.5l-.94 2.06-2.06.94zm10 10l.94 2.06.94-2.06 2.06-.94-2.06-.94-.94-2.06-.94 2.06-2.06.94z\"/><path d=\"M17.41 7.96l-1.37-1.37c-.4-.4-.92-.59-1.43-.59-.52 0-1.04.2-1.43.59L10.3 9.45l-7.72 7.72c-.78.78-.78 2.05 0 2.83L4 21.41c.39.39.9.59 1.41.59.51 0 1.02-.2 1.41-.59l7.78-7.78 2.81-2.81c.8-.78.8-2.07 0-2.86zM5.41 20L4 18.59l7.72-7.72 1.47 1.35L5.41 20z\"/>\n",
              "  </svg>\n",
              "      </button>\n",
              "      \n",
              "  <style>\n",
              "    .colab-df-container {\n",
              "      display:flex;\n",
              "      flex-wrap:wrap;\n",
              "      gap: 12px;\n",
              "    }\n",
              "\n",
              "    .colab-df-convert {\n",
              "      background-color: #E8F0FE;\n",
              "      border: none;\n",
              "      border-radius: 50%;\n",
              "      cursor: pointer;\n",
              "      display: none;\n",
              "      fill: #1967D2;\n",
              "      height: 32px;\n",
              "      padding: 0 0 0 0;\n",
              "      width: 32px;\n",
              "    }\n",
              "\n",
              "    .colab-df-convert:hover {\n",
              "      background-color: #E2EBFA;\n",
              "      box-shadow: 0px 1px 2px rgba(60, 64, 67, 0.3), 0px 1px 3px 1px rgba(60, 64, 67, 0.15);\n",
              "      fill: #174EA6;\n",
              "    }\n",
              "\n",
              "    [theme=dark] .colab-df-convert {\n",
              "      background-color: #3B4455;\n",
              "      fill: #D2E3FC;\n",
              "    }\n",
              "\n",
              "    [theme=dark] .colab-df-convert:hover {\n",
              "      background-color: #434B5C;\n",
              "      box-shadow: 0px 1px 3px 1px rgba(0, 0, 0, 0.15);\n",
              "      filter: drop-shadow(0px 1px 2px rgba(0, 0, 0, 0.3));\n",
              "      fill: #FFFFFF;\n",
              "    }\n",
              "  </style>\n",
              "\n",
              "      <script>\n",
              "        const buttonEl =\n",
              "          document.querySelector('#df-acd76ca6-73f5-412c-8ec2-d085f65b5364 button.colab-df-convert');\n",
              "        buttonEl.style.display =\n",
              "          google.colab.kernel.accessAllowed ? 'block' : 'none';\n",
              "\n",
              "        async function convertToInteractive(key) {\n",
              "          const element = document.querySelector('#df-acd76ca6-73f5-412c-8ec2-d085f65b5364');\n",
              "          const dataTable =\n",
              "            await google.colab.kernel.invokeFunction('convertToInteractive',\n",
              "                                                     [key], {});\n",
              "          if (!dataTable) return;\n",
              "\n",
              "          const docLinkHtml = 'Like what you see? Visit the ' +\n",
              "            '<a target=\"_blank\" href=https://colab.research.google.com/notebooks/data_table.ipynb>data table notebook</a>'\n",
              "            + ' to learn more about interactive tables.';\n",
              "          element.innerHTML = '';\n",
              "          dataTable['output_type'] = 'display_data';\n",
              "          await google.colab.output.renderOutput(dataTable, element);\n",
              "          const docLink = document.createElement('div');\n",
              "          docLink.innerHTML = docLinkHtml;\n",
              "          element.appendChild(docLink);\n",
              "        }\n",
              "      </script>\n",
              "    </div>\n",
              "  </div>\n",
              "  "
            ],
            "text/plain": [
              "      budget  ...                                               crew\n",
              "0  237000000  ...  [{\"credit_id\": \"52fe48009251416c750aca23\", \"de...\n",
              "1  300000000  ...  [{\"credit_id\": \"52fe4232c3a36847f800b579\", \"de...\n",
              "2  245000000  ...  [{\"credit_id\": \"54805967c3a36829b5002c41\", \"de...\n",
              "\n",
              "[3 rows x 21 columns]"
            ]
          },
          "metadata": {},
          "execution_count": 255
        }
      ]
    },
    {
      "cell_type": "markdown",
      "source": [
        "# Check columns with float values"
      ],
      "metadata": {
        "id": "HtrzSlZ5Wb-s"
      }
    },
    {
      "cell_type": "markdown",
      "source": [
        "Some helper functions for checking float value columns"
      ],
      "metadata": {
        "id": "Ev5nebonXEyi"
      }
    },
    {
      "cell_type": "code",
      "source": [
        "def check_float_column(df, column_name, nan_replacement=-1):\n",
        "  nanCount = sum(df[column_name].isnull())\n",
        "  if nanCount > 0:\n",
        "    print(f\"Column has {nanCount} NaN values! Replacing them with {nan_replacement}\")\n",
        "    column = list(df[column_name].fillna(nan_replacement))\n",
        "  else:\n",
        "    column = list(df[column_name])\n",
        "  column_sorted = sorted(column)\n",
        "  x = [i for i in range(1, len(column) + 1)]\n",
        "  plt.plot(x, column_sorted)\n",
        "  plt.xlabel(\"Movie\")\n",
        "  plt.ylabel(column_name)\n",
        "  plt.show()\n",
        "\n",
        "  plt.hist(column_sorted, bins=30)\n",
        "  plt.show()\n",
        "\n",
        "  print(df[column_name].describe())\n",
        "\n",
        "  zero_value = sum(df[column_name] == 0)\n",
        "\n",
        "  print()\n",
        "  print(f\"There are {zero_value} movies with a value of 0 for {column_name}\")"
      ],
      "metadata": {
        "id": "lIx1iRV0XI_y"
      },
      "execution_count": 256,
      "outputs": []
    },
    {
      "cell_type": "markdown",
      "source": [
        "## Check the buget column"
      ],
      "metadata": {
        "id": "R6Zcl7zrXvf0"
      }
    },
    {
      "cell_type": "code",
      "source": [
        "check_float_column(df, \"budget\")"
      ],
      "metadata": {
        "colab": {
          "base_uri": "https://localhost:8080/",
          "height": 742
        },
        "id": "62Elzo0dX94b",
        "outputId": "e2da5267-aac8-481c-d7bb-83a3072dc2f2"
      },
      "execution_count": 257,
      "outputs": [
        {
          "output_type": "display_data",
          "data": {
            "image/png": "[encoded data removed]",
            "text/plain": [
              "<Figure size 432x288 with 1 Axes>"
            ]
          },
          "metadata": {
            "needs_background": "light"
          }
        },
        {
          "output_type": "display_data",
          "data": {
            "image/png": "[encoded data removed]",
            "text/plain": [
              "<Figure size 432x288 with 1 Axes>"
            ]
          },
          "metadata": {
            "needs_background": "light"
          }
        },
        {
          "output_type": "stream",
          "name": "stdout",
          "text": [
            "count    4.803000e+03\n",
            "mean     2.904504e+07\n",
            "std      4.072239e+07\n",
            "min      0.000000e+00\n",
            "25%      7.900000e+05\n",
            "50%      1.500000e+07\n",
            "75%      4.000000e+07\n",
            "max      3.800000e+08\n",
            "Name: budget, dtype: float64\n",
            "\n",
            "There are 1037 movies with a value of 0 for budget\n"
          ]
        }
      ]
    },
    {
      "cell_type": "markdown",
      "source": [
        "So more than 1/5 of movies do not have a budget reported."
      ],
      "metadata": {
        "id": "1pFat9BMZyew"
      }
    },
    {
      "cell_type": "markdown",
      "source": [
        "## Check the popularity column"
      ],
      "metadata": {
        "id": "4ZCE7nkMaByg"
      }
    },
    {
      "cell_type": "code",
      "source": [
        "check_float_column(df, \"popularity\")"
      ],
      "metadata": {
        "colab": {
          "base_uri": "https://localhost:8080/",
          "height": 718
        },
        "id": "-crG7GqOacSw",
        "outputId": "35f5f23a-8898-4691-9831-0d3df191c8dc"
      },
      "execution_count": 258,
      "outputs": [
        {
          "output_type": "display_data",
          "data": {
            "image/png": "[encoded data removed]",
            "text/plain": [
              "<Figure size 432x288 with 1 Axes>"
            ]
          },
          "metadata": {
            "needs_background": "light"
          }
        },
        {
          "output_type": "display_data",
          "data": {
            "image/png": "[encoded data removed]",
            "text/plain": [
              "<Figure size 432x288 with 1 Axes>"
            ]
          },
          "metadata": {
            "needs_background": "light"
          }
        },
        {
          "output_type": "stream",
          "name": "stdout",
          "text": [
            "count    4803.000000\n",
            "mean       21.492301\n",
            "std        31.816650\n",
            "min         0.000000\n",
            "25%         4.668070\n",
            "50%        12.921594\n",
            "75%        28.313505\n",
            "max       875.581305\n",
            "Name: popularity, dtype: float64\n",
            "\n",
            "There are 1 movies with a value of 0 for popularity\n"
          ]
        }
      ]
    },
    {
      "cell_type": "markdown",
      "source": [
        "Most movies seem to have low popularity, but there is only one with 0 popularity."
      ],
      "metadata": {
        "id": "L4LLqtwXalXX"
      }
    },
    {
      "cell_type": "markdown",
      "source": [
        "## Check the revenue column"
      ],
      "metadata": {
        "id": "0p9Vzv3vaq7f"
      }
    },
    {
      "cell_type": "code",
      "source": [
        "check_float_column(df, \"revenue\")"
      ],
      "metadata": {
        "colab": {
          "base_uri": "https://localhost:8080/",
          "height": 742
        },
        "id": "I-nE-rD-bC0v",
        "outputId": "2f53502b-1ca3-4f1c-bc67-a1b4f043dd47"
      },
      "execution_count": 259,
      "outputs": [
        {
          "output_type": "display_data",
          "data": {
            "image/png": "[encoded data removed]",
            "text/plain": [
              "<Figure size 432x288 with 1 Axes>"
            ]
          },
          "metadata": {
            "needs_background": "light"
          }
        },
        {
          "output_type": "display_data",
          "data": {
            "image/png": "[encoded data removed]",
            "text/plain": [
              "<Figure size 432x288 with 1 Axes>"
            ]
          },
          "metadata": {
            "needs_background": "light"
          }
        },
        {
          "output_type": "stream",
          "name": "stdout",
          "text": [
            "count    4.803000e+03\n",
            "mean     8.226064e+07\n",
            "std      1.628571e+08\n",
            "min      0.000000e+00\n",
            "25%      0.000000e+00\n",
            "50%      1.917000e+07\n",
            "75%      9.291719e+07\n",
            "max      2.787965e+09\n",
            "Name: revenue, dtype: float64\n",
            "\n",
            "There are 1427 movies with a value of 0 for revenue\n"
          ]
        }
      ]
    },
    {
      "cell_type": "markdown",
      "source": [
        "Almost 1/3 of movies have no revenue reported."
      ],
      "metadata": {
        "id": "EmI51pMQbJHP"
      }
    },
    {
      "cell_type": "markdown",
      "source": [
        "## Check the runtime column"
      ],
      "metadata": {
        "id": "GwVhoS9xWp_L"
      }
    },
    {
      "cell_type": "code",
      "source": [
        "check_float_column(df, \"runtime\")"
      ],
      "metadata": {
        "colab": {
          "base_uri": "https://localhost:8080/",
          "height": 736
        },
        "id": "l_tznAP1YbXq",
        "outputId": "ea017d8b-a2cd-4338-8bdf-f538a0ef08cd"
      },
      "execution_count": 260,
      "outputs": [
        {
          "output_type": "stream",
          "name": "stdout",
          "text": [
            "Column has 2 NaN values! Replacing them with -1\n"
          ]
        },
        {
          "output_type": "display_data",
          "data": {
            "image/png": "[encoded data removed]",
            "text/plain": [
              "<Figure size 432x288 with 1 Axes>"
            ]
          },
          "metadata": {
            "needs_background": "light"
          }
        },
        {
          "output_type": "display_data",
          "data": {
            "image/png": "[encoded data removed]",
            "text/plain": [
              "<Figure size 432x288 with 1 Axes>"
            ]
          },
          "metadata": {
            "needs_background": "light"
          }
        },
        {
          "output_type": "stream",
          "name": "stdout",
          "text": [
            "count    4801.000000\n",
            "mean      106.875859\n",
            "std        22.611935\n",
            "min         0.000000\n",
            "25%        94.000000\n",
            "50%       103.000000\n",
            "75%       118.000000\n",
            "max       338.000000\n",
            "Name: runtime, dtype: float64\n",
            "\n",
            "There are 35 movies with a value of 0 for runtime\n"
          ]
        }
      ]
    },
    {
      "cell_type": "markdown",
      "source": [
        "## Check vote_average column"
      ],
      "metadata": {
        "id": "ztjmY9T3eaAd"
      }
    },
    {
      "cell_type": "code",
      "source": [
        "check_float_column(df, \"vote_average\")"
      ],
      "metadata": {
        "colab": {
          "base_uri": "https://localhost:8080/",
          "height": 718
        },
        "id": "bs2s13DTeoCS",
        "outputId": "54451887-eabd-4011-b06f-48da4156c2e5"
      },
      "execution_count": 261,
      "outputs": [
        {
          "output_type": "display_data",
          "data": {
            "image/png": "[encoded data removed]",
            "text/plain": [
              "<Figure size 432x288 with 1 Axes>"
            ]
          },
          "metadata": {
            "needs_background": "light"
          }
        },
        {
          "output_type": "display_data",
          "data": {
            "image/png": "[encoded data removed]",
            "text/plain": [
              "<Figure size 432x288 with 1 Axes>"
            ]
          },
          "metadata": {
            "needs_background": "light"
          }
        },
        {
          "output_type": "stream",
          "name": "stdout",
          "text": [
            "count    4803.000000\n",
            "mean        6.092172\n",
            "std         1.194612\n",
            "min         0.000000\n",
            "25%         5.600000\n",
            "50%         6.200000\n",
            "75%         6.800000\n",
            "max        10.000000\n",
            "Name: vote_average, dtype: float64\n",
            "\n",
            "There are 63 movies with a value of 0 for vote_average\n"
          ]
        }
      ]
    },
    {
      "cell_type": "markdown",
      "source": [
        "## Check the vote_count column"
      ],
      "metadata": {
        "id": "x9q2UDJyef_r"
      }
    },
    {
      "cell_type": "code",
      "source": [
        "check_float_column(df, \"vote_count\")"
      ],
      "metadata": {
        "colab": {
          "base_uri": "https://localhost:8080/",
          "height": 718
        },
        "id": "NfeTawmHeviD",
        "outputId": "4f4c6479-3e04-41f8-9160-503bcc1d17da"
      },
      "execution_count": 262,
      "outputs": [
        {
          "output_type": "display_data",
          "data": {
            "image/png": "[encoded data removed]",
            "text/plain": [
              "<Figure size 432x288 with 1 Axes>"
            ]
          },
          "metadata": {
            "needs_background": "light"
          }
        },
        {
          "output_type": "display_data",
          "data": {
            "image/png": "[encoded data removed]",
            "text/plain": [
              "<Figure size 432x288 with 1 Axes>"
            ]
          },
          "metadata": {
            "needs_background": "light"
          }
        },
        {
          "output_type": "stream",
          "name": "stdout",
          "text": [
            "count     4803.000000\n",
            "mean       690.217989\n",
            "std       1234.585891\n",
            "min          0.000000\n",
            "25%         54.000000\n",
            "50%        235.000000\n",
            "75%        737.000000\n",
            "max      13752.000000\n",
            "Name: vote_count, dtype: float64\n",
            "\n",
            "There are 62 movies with a value of 0 for vote_count\n"
          ]
        }
      ]
    },
    {
      "cell_type": "markdown",
      "source": [
        "# Check string type columns"
      ],
      "metadata": {
        "id": "cEqFiGLLfNGs"
      }
    },
    {
      "cell_type": "markdown",
      "source": [
        "Some helper functions used to check string columns"
      ],
      "metadata": {
        "id": "w6YUdFaBPbbr"
      }
    },
    {
      "cell_type": "code",
      "source": [
        "def get_unique_strings(df, column_name, nan_replacement=\"Unknown\"):\n",
        "  nanCount = sum(df[column_name].isnull())\n",
        "  if nanCount > 0:\n",
        "    print(f\"Column has {nanCount} NaN values! Replacing them with {nan_replacement}\")\n",
        "    column = list(df[column_name].fillna(nan_replacement))\n",
        "  else:\n",
        "    column = list(df[column_name])\n",
        "  uniqueMap = {}\n",
        "  for elem in column:\n",
        "    if elem not in uniqueMap:\n",
        "      uniqueMap[elem] = 1\n",
        "    else:\n",
        "      uniqueMap[elem] += 1\n",
        "  return uniqueMap"
      ],
      "metadata": {
        "id": "eV2C1RyPPflC"
      },
      "execution_count": 263,
      "outputs": []
    },
    {
      "cell_type": "code",
      "source": [
        "def sort_unique_strings(uniqueMap, ascending=False):\n",
        "  uniqueList = [(key, value) for key, value in uniqueMap.items()]\n",
        "  if ascending:\n",
        "    uniqueList.sort(key=lambda x: x[1])\n",
        "  else:\n",
        "    uniqueList.sort(key=lambda x: -x[1])\n",
        "  return uniqueList"
      ],
      "metadata": {
        "id": "eEGuBPnVQtbx"
      },
      "execution_count": 264,
      "outputs": []
    },
    {
      "cell_type": "code",
      "source": [
        "def plot_unique_strings(uniqueList, figsize=(6.4, 4.8), title=\"\", xlabel=\"\", ylabel=\"\"):\n",
        "  dictDummy = {}\n",
        "  if type(uniqueList) == type(dictDummy):\n",
        "    raise Exception(\"uniqueList is a dictionary. It should be a list of tuples of (string, frequency)!\")\n",
        "  strings = [x[0] for x in uniqueList]\n",
        "  frequencies = [x[1] for x in uniqueList]\n",
        "  fig = plt.figure(figsize=figsize)\n",
        "  ax = fig.add_axes([0,0,1,1])\n",
        "  ax.bar(strings, frequencies)\n",
        "  if title != \"\":\n",
        "    ax.set_title(title)\n",
        "  if xlabel != \"\":\n",
        "    ax.set_xlabel(xlabel)\n",
        "  if ylabel != \"\":\n",
        "    ax.set_ylabel(ylabel)\n",
        "  plt.show()"
      ],
      "metadata": {
        "id": "IQswNT3BTISn"
      },
      "execution_count": 265,
      "outputs": []
    },
    {
      "cell_type": "markdown",
      "source": [
        "## Check original_language column"
      ],
      "metadata": {
        "id": "0Cg1RfMgVM-W"
      }
    },
    {
      "cell_type": "code",
      "source": [
        "uniqueLanguage = get_unique_strings(df, \"original_language\")\n",
        "uniqueLanguage = sort_unique_strings(uniqueLanguage, ascending=False)\n",
        "plot_unique_strings(uniqueLanguage)\n",
        "print(uniqueLanguage)\n",
        "print(sum([x[1] for x in uniqueLanguage]))"
      ],
      "metadata": {
        "colab": {
          "base_uri": "https://localhost:8080/",
          "height": 448
        },
        "id": "Oypv2TRKVW-o",
        "outputId": "52b28f53-4ac7-48fe-8cc3-07c68b9454ce"
      },
      "execution_count": 286,
      "outputs": [
        {
          "output_type": "display_data",
          "data": {
            "image/png": "[encoded data removed]",
            "text/plain": [
              "<Figure size 460.8x345.6 with 1 Axes>"
            ]
          },
          "metadata": {
            "needs_background": "light"
          }
        },
        {
          "output_type": "stream",
          "name": "stdout",
          "text": [
            "[('en', 4505), ('fr', 70), ('es', 32), ('zh', 27), ('de', 27), ('hi', 19), ('ja', 16), ('it', 14), ('cn', 12), ('ru', 11), ('ko', 11), ('pt', 9), ('da', 7), ('sv', 5), ('nl', 4), ('fa', 4), ('th', 3), ('he', 3), ('ta', 2), ('cs', 2), ('ar', 2), ('id', 2), ('ro', 2), ('te', 1), ('xx', 1), ('hu', 1), ('is', 1), ('tr', 1), ('nb', 1), ('af', 1), ('pl', 1), ('vi', 1), ('ky', 1), ('no', 1), ('sl', 1), ('ps', 1), ('el', 1)]\n",
            "4803\n"
          ]
        }
      ]
    },
    {
      "cell_type": "markdown",
      "source": [
        "## Check the status column"
      ],
      "metadata": {
        "id": "irjgLwY-PT6Q"
      }
    },
    {
      "cell_type": "code",
      "source": [
        "uniqueStatus = get_unique_strings(df, \"status\")\n",
        "uniqueStatus = sort_unique_strings(uniqueStatus, ascending=False)\n",
        "plot_unique_strings(uniqueStatus)\n",
        "print(uniqueStatus)"
      ],
      "metadata": {
        "colab": {
          "base_uri": "https://localhost:8080/",
          "height": 412
        },
        "id": "QafOYnsNWG-U",
        "outputId": "eebe9630-d0a2-478c-e2f2-8c711be08105"
      },
      "execution_count": 267,
      "outputs": [
        {
          "output_type": "display_data",
          "data": {
            "image/png": "[encoded data removed]",
            "text/plain": [
              "<Figure size 460.8x345.6 with 1 Axes>"
            ]
          },
          "metadata": {
            "needs_background": "light"
          }
        },
        {
          "output_type": "stream",
          "name": "stdout",
          "text": [
            "[('Released', 4795), ('Rumored', 5), ('Post Production', 3)]\n"
          ]
        }
      ]
    },
    {
      "cell_type": "markdown",
      "source": [
        "# Check object type (JSON) columns"
      ],
      "metadata": {
        "id": "dKiWBUtre3-b"
      }
    },
    {
      "cell_type": "code",
      "source": [
        "def check_object_column(df, column_name, key_name, nan_replacement=[], figsize=(6.4, 4.8), ascending=False, bins=10, printCount=20):\n",
        "  nanCount = sum(df[column_name].isnull())\n",
        "  if nanCount > 0:\n",
        "    print(f\"Column has {nanCount} NaN values! Replacing them with {nan_replacement}\")\n",
        "    column = list(df[column_name].fillna(nan_replacement))\n",
        "  else:\n",
        "    column = list(df[column_name])\n",
        "  \n",
        "  # key is a unique string, value is it's frequency in the whole dataset\n",
        "  columnKeyMap = {}\n",
        "\n",
        "  # How many dictionary elements are in the current column for each example in the df\n",
        "  # E.g. how many genres each movie has\n",
        "  elementsInObject = []\n",
        "\n",
        "  for jsonString in column:\n",
        "    dictionaryList = json.loads(jsonString)\n",
        "    elementsInObject.append(len(dictionaryList))\n",
        "    for dictionary in dictionaryList:\n",
        "      key = dictionary[key_name]\n",
        "      if key in columnKeyMap:\n",
        "        columnKeyMap[key] += 1\n",
        "      else:\n",
        "        columnKeyMap[key] = 1\n",
        "\n",
        "  columnKeyList = sort_unique_strings(columnKeyMap, ascending=False)\n",
        "  \n",
        "  print(f\"Found {len(columnKeyList)} different unique elements\")\n",
        "  if printCount == -1 or len(columnKeyList) <= printCount:\n",
        "    print(columnKeyList)\n",
        "  else:\n",
        "    print(\"First elements:\")\n",
        "    print(columnKeyList[:printCount])\n",
        "    print(\"Last elements:\")\n",
        "    print(columnKeyList[-printCount:])\n",
        "\n",
        "  if len(columnKeyList) <= 30:\n",
        "    title = f\"Movie count per unique value in {column_name}\"\n",
        "    xlabel = column_name\n",
        "    ylabel = \"Movie count\"\n",
        "    plot_unique_strings(columnKeyList, figsize, title=title, xlabel=xlabel, ylabel=ylabel)\n",
        "  else:\n",
        "    elementsInObjectSorted = sorted(elementsInObject)\n",
        "    x = [i for i in range(1, len(elementsInObject) + 1)]\n",
        "    plt.plot(x, elementsInObjectSorted)\n",
        "    plt.xlabel(\"Movie\")\n",
        "    plt.ylabel(f\"Number of elements in {column_name}\")\n",
        "    plt.show()\n",
        "\n",
        "\n",
        "  plt.hist(elementsInObject, bins=bins)\n",
        "  plt.title(f\"{column_name} count per movie\")\n",
        "  plt.xlabel(f\"{column_name} count\")\n",
        "  plt.ylabel(\"Movie count\")\n",
        "  plt.show()\n",
        "\n",
        "  zero_value = sum([1 for elem in elementsInObject if elem == 0])\n",
        "\n",
        "  print()\n",
        "  print(f\"There are {zero_value} movies with no elements in {column_name}\")\n"
      ],
      "metadata": {
        "id": "Gy1jyr6Ye3eb"
      },
      "execution_count": 268,
      "outputs": []
    },
    {
      "cell_type": "markdown",
      "source": [
        "## Check genres column"
      ],
      "metadata": {
        "id": "B4oJr0va5Ld_"
      }
    },
    {
      "cell_type": "code",
      "source": [
        "check_object_column(df, \"genres\", \"name\", figsize=(15.3, 4.8))"
      ],
      "metadata": {
        "colab": {
          "base_uri": "https://localhost:8080/",
          "height": 774
        },
        "id": "nmQp0jof02qz",
        "outputId": "eef5694d-984f-4882-b623-8f1046b849af"
      },
      "execution_count": 269,
      "outputs": [
        {
          "output_type": "stream",
          "name": "stdout",
          "text": [
            "Found 20 different unique elements\n",
            "[('Drama', 2297), ('Comedy', 1722), ('Thriller', 1274), ('Action', 1154), ('Romance', 894), ('Adventure', 790), ('Crime', 696), ('Science Fiction', 535), ('Horror', 519), ('Family', 513), ('Fantasy', 424), ('Mystery', 348), ('Animation', 234), ('History', 197), ('Music', 185), ('War', 144), ('Documentary', 110), ('Western', 82), ('Foreign', 34), ('TV Movie', 8)]\n"
          ]
        },
        {
          "output_type": "display_data",
          "data": {
            "image/png": "[encoded data removed]",
            "text/plain": [
              "<Figure size 1101.6x345.6 with 1 Axes>"
            ]
          },
          "metadata": {
            "needs_background": "light"
          }
        },
        {
          "output_type": "display_data",
          "data": {
            "image/png": "[encoded data removed]",
            "text/plain": [
              "<Figure size 432x288 with 1 Axes>"
            ]
          },
          "metadata": {
            "needs_background": "light"
          }
        },
        {
          "output_type": "stream",
          "name": "stdout",
          "text": [
            "\n",
            "There are 28 movies with no elements in genres\n"
          ]
        }
      ]
    },
    {
      "cell_type": "markdown",
      "source": [
        "## Check keywords column"
      ],
      "metadata": {
        "id": "ovHG_HTg5PC3"
      }
    },
    {
      "cell_type": "code",
      "source": [
        "check_object_column(df, \"keywords\", \"name\", figsize=(15.3, 4.8), bins=40)"
      ],
      "metadata": {
        "colab": {
          "base_uri": "https://localhost:8080/",
          "height": 699
        },
        "id": "GWpOPrw61QhC",
        "outputId": "cc9829bc-2192-4311-dd6c-a30bb34601a2"
      },
      "execution_count": 270,
      "outputs": [
        {
          "output_type": "stream",
          "name": "stdout",
          "text": [
            "Found 9813 different unique elements\n",
            "First elements:\n",
            "[('woman director', 324), ('independent film', 318), ('duringcreditsstinger', 307), ('based on novel', 197), ('murder', 189), ('aftercreditsstinger', 170), ('violence', 150), ('dystopia', 139), ('sport', 126), ('revenge', 118), ('sex', 111), ('friendship', 106), ('musical', 105), ('biography', 105), ('teenager', 99), ('3d', 98), ('love', 95), ('sequel', 94), ('suspense', 92), ('new york', 89)]\n",
            "Last elements:\n",
            "[('pap smear', 1), ('austin texas', 1), ('reference to jack ruby', 1), ('dairy queen restaurant', 1), ('moon walk', 1), ('anti romantic comedy', 1), ('excrements ', 1), ('adult humor', 1), ('estranged son', 1), ('psychosis', 1), ('personality disorder', 1), ('serial kiler', 1), ('latino lgbt', 1), ('gang initiation', 1), ('gunplay', 1), ('homeless', 1), ('arms', 1), ('paper knife', 1), ('guitar case', 1), ('postal worker', 1)]\n"
          ]
        },
        {
          "output_type": "display_data",
          "data": {
            "image/png": "[encoded data removed]",
            "text/plain": [
              "<Figure size 432x288 with 1 Axes>"
            ]
          },
          "metadata": {
            "needs_background": "light"
          }
        },
        {
          "output_type": "display_data",
          "data": {
            "image/png": "[encoded data removed]",
            "text/plain": [
              "<Figure size 432x288 with 1 Axes>"
            ]
          },
          "metadata": {
            "needs_background": "light"
          }
        },
        {
          "output_type": "stream",
          "name": "stdout",
          "text": [
            "\n",
            "There are 412 movies with no elements in keywords\n"
          ]
        }
      ]
    },
    {
      "cell_type": "markdown",
      "source": [
        "## Check production_companies\tcolumn\n"
      ],
      "metadata": {
        "id": "6LxWiNb57hfW"
      }
    },
    {
      "cell_type": "code",
      "source": [
        "check_object_column(df, \"production_companies\", \"name\", figsize=(15.3, 4.8), bins=40)"
      ],
      "metadata": {
        "colab": {
          "base_uri": "https://localhost:8080/",
          "height": 706
        },
        "id": "_1mNf_nm7rZc",
        "outputId": "d6bd8a9e-1fa7-4d78-8357-4d7bbc122479"
      },
      "execution_count": 271,
      "outputs": [
        {
          "output_type": "stream",
          "name": "stdout",
          "text": [
            "Found 5017 different unique elements\n",
            "First elements:\n",
            "[('Warner Bros.', 319), ('Universal Pictures', 311), ('Paramount Pictures', 285), ('Twentieth Century Fox Film Corporation', 222), ('Columbia Pictures', 201), ('New Line Cinema', 165), ('Metro-Goldwyn-Mayer (MGM)', 122), ('Touchstone Pictures', 118), ('Walt Disney Pictures', 114), ('Relativity Media', 102), ('Columbia Pictures Corporation', 96), ('Miramax Films', 94), ('Village Roadshow Pictures', 81), ('DreamWorks SKG', 79), ('Canal+', 75), ('United Artists', 75), ('Regency Enterprises', 69), ('Fox Searchlight Pictures', 64), ('Dune Entertainment', 59), ('Lionsgate', 56)]\n",
            "Last elements:\n",
            "[('Amok Productions', 1), ('GO Productions', 1), ('Vicarious Entertainment', 1), ('Bloodline Productions', 1), ('Shallow Focus', 1), ('Grindfest', 1), ('Dreamland Productions', 1), ('Jafar Panahi Film Productions', 1), ('Park Films', 1), ('Camera Stylo Films', 1), ('Daiei Studios', 1), ('Iconoclast Films', 1), ('Gold Lion Films', 1), ('T-Street Productions', 1), ('Asylum Films', 1), ('FM Entertainment', 1), ('Eagle Eye Films Inc.', 1), ('Front Street Pictures', 1), ('rusty bear entertainment', 1), ('lucky crow films', 1)]\n"
          ]
        },
        {
          "output_type": "display_data",
          "data": {
            "image/png": "[encoded data removed]",
            "text/plain": [
              "<Figure size 432x288 with 1 Axes>"
            ]
          },
          "metadata": {
            "needs_background": "light"
          }
        },
        {
          "output_type": "display_data",
          "data": {
            "image/png": "[encoded data removed]",
            "text/plain": [
              "<Figure size 432x288 with 1 Axes>"
            ]
          },
          "metadata": {
            "needs_background": "light"
          }
        },
        {
          "output_type": "stream",
          "name": "stdout",
          "text": [
            "\n",
            "There are 351 movies with no elements in production_companies\n"
          ]
        }
      ]
    },
    {
      "cell_type": "markdown",
      "source": [
        "## Check production_countries column"
      ],
      "metadata": {
        "id": "qvlwJZ0Y7-1Q"
      }
    },
    {
      "cell_type": "code",
      "source": [
        "check_object_column(df, \"production_countries\", \"iso_3166_1\", figsize=(15.3, 4.8), bins=40)"
      ],
      "metadata": {
        "colab": {
          "base_uri": "https://localhost:8080/",
          "height": 702
        },
        "id": "ax9UUZDV8GcE",
        "outputId": "e52a2e36-2c88-4328-9bfb-70f64ae8f33a"
      },
      "execution_count": 272,
      "outputs": [
        {
          "output_type": "stream",
          "name": "stdout",
          "text": [
            "Found 88 different unique elements\n",
            "First elements:\n",
            "[('US', 3956), ('GB', 636), ('DE', 324), ('FR', 306), ('CA', 261), ('AU', 110), ('IT', 72), ('ES', 71), ('CN', 59), ('JP', 58), ('IN', 54), ('HK', 48), ('IE', 37), ('MX', 30), ('NZ', 28), ('BE', 25), ('CZ', 24), ('ZA', 20), ('DK', 20), ('SE', 19)]\n",
            "Last elements:\n",
            "[('CS', 1), ('TR', 1), ('NG', 1), ('CY', 1), ('JO', 1), ('BO', 1), ('EC', 1), ('EG', 1), ('BT', 1), ('LB', 1), ('KG', 1), ('DZ', 1), ('ID', 1), ('GY', 1), ('GP', 1), ('AF', 1), ('AO', 1), ('DO', 1), ('CM', 1), ('KE', 1)]\n"
          ]
        },
        {
          "output_type": "display_data",
          "data": {
            "image/png": "[encoded data removed]",
            "text/plain": [
              "<Figure size 432x288 with 1 Axes>"
            ]
          },
          "metadata": {
            "needs_background": "light"
          }
        },
        {
          "output_type": "display_data",
          "data": {
            "image/png": "[encoded data removed]",
            "text/plain": [
              "<Figure size 432x288 with 1 Axes>"
            ]
          },
          "metadata": {
            "needs_background": "light"
          }
        },
        {
          "output_type": "stream",
          "name": "stdout",
          "text": [
            "\n",
            "There are 174 movies with no elements in production_countries\n"
          ]
        }
      ]
    },
    {
      "cell_type": "markdown",
      "source": [
        "## Check spoken_languages column"
      ],
      "metadata": {
        "id": "Pfkqu_3mAiVZ"
      }
    },
    {
      "cell_type": "code",
      "source": [
        "check_object_column(df, \"spoken_languages\", \"iso_639_1\", figsize=(15.3, 4.8), bins=40)"
      ],
      "metadata": {
        "colab": {
          "base_uri": "https://localhost:8080/",
          "height": 699
        },
        "id": "ccMWZjSGAus-",
        "outputId": "d9e11d8f-bd7d-4cd0-9e7f-34011543e49c"
      },
      "execution_count": 273,
      "outputs": [
        {
          "output_type": "stream",
          "name": "stdout",
          "text": [
            "Found 87 different unique elements\n",
            "First elements:\n",
            "[('en', 4485), ('fr', 437), ('es', 351), ('de', 262), ('it', 188), ('ru', 185), ('zh', 107), ('ja', 97), ('pt', 68), ('ar', 67), ('pl', 53), ('la', 52), ('hi', 48), ('cn', 48), ('hu', 42), ('th', 40), ('cs', 38), ('he', 33), ('ko', 31), ('sv', 22)]\n",
            "Last elements:\n",
            "[('tl', 1), ('te', 1), ('iu', 1), ('wo', 1), ('ny', 1), ('st', 1), ('kw', 1), ('si', 1), ('ne', 1), ('gl', 1), ('ka', 1), ('bn', 1), ('ku', 1), ('to', 1), ('ca', 1), ('br', 1), ('dz', 1), ('ky', 1), ('bm', 1), ('sl', 1)]\n"
          ]
        },
        {
          "output_type": "display_data",
          "data": {
            "image/png": "[encoded data removed]",
            "text/plain": [
              "<Figure size 432x288 with 1 Axes>"
            ]
          },
          "metadata": {
            "needs_background": "light"
          }
        },
        {
          "output_type": "display_data",
          "data": {
            "image/png": "[encoded data removed]",
            "text/plain": [
              "<Figure size 432x288 with 1 Axes>"
            ]
          },
          "metadata": {
            "needs_background": "light"
          }
        },
        {
          "output_type": "stream",
          "name": "stdout",
          "text": [
            "\n",
            "There are 86 movies with no elements in spoken_languages\n"
          ]
        }
      ]
    },
    {
      "cell_type": "markdown",
      "source": [
        "## Check cast column"
      ],
      "metadata": {
        "id": "GPvGxdpgA5MB"
      }
    },
    {
      "cell_type": "markdown",
      "source": [
        "Check actors"
      ],
      "metadata": {
        "id": "6W3S8XiYCSFX"
      }
    },
    {
      "cell_type": "code",
      "source": [
        "check_object_column(df, \"cast\", \"name\", figsize=(15.3, 4.8), bins=40)"
      ],
      "metadata": {
        "colab": {
          "base_uri": "https://localhost:8080/",
          "height": 698
        },
        "id": "pI2ad5toCD4n",
        "outputId": "1e4bb65d-c47b-4511-e743-c7dd0c0369dc"
      },
      "execution_count": 274,
      "outputs": [
        {
          "output_type": "stream",
          "name": "stdout",
          "text": [
            "Found 54201 different unique elements\n",
            "First elements:\n",
            "[('Samuel L. Jackson', 67), ('Robert De Niro', 57), ('Bruce Willis', 51), ('Matt Damon', 48), ('Morgan Freeman', 46), ('Steve Buscemi', 43), ('Liam Neeson', 41), ('Johnny Depp', 40), ('Owen Wilson', 40), ('John Goodman', 39), ('Nicolas Cage', 39), ('Alec Baldwin', 39), ('Willem Dafoe', 38), ('Jim Broadbent', 38), ('Stanley Tucci', 38), ('Brad Pitt', 38), ('Paul Giamatti', 37), ('Will Ferrell', 37), ('Richard Jenkins', 36), ('Susan Sarandon', 36)]\n",
            "Last elements:\n",
            "[('Ashley Warren', 1), ('Samantha Thomson', 1), ('Chip Carruth', 1), ('Delaney Price', 1), ('Jack Pyland', 1), ('Keith Bradshaw', 1), ('Ashok Upadhyaya', 1), ('Brandon Blagg', 1), ('Jon Cook', 1), ('David Joyner', 1), ('Eric De Soualhat', 1), ('Jaime de Hoyos', 1), ('Reinol Martinez', 1), ('Ramiro Gomez', 1), ('Consuelo Gómez', 1), ('Daniella Pineda', 1), ('Laci J Mailey', 1), ('Zhu Shimao', 1), ('Brian Herzlinger', 1), (\"Bill D'Elia\", 1)]\n"
          ]
        },
        {
          "output_type": "display_data",
          "data": {
            "image/png": "[encoded data removed]",
            "text/plain": [
              "<Figure size 432x288 with 1 Axes>"
            ]
          },
          "metadata": {
            "needs_background": "light"
          }
        },
        {
          "output_type": "display_data",
          "data": {
            "image/png": "[encoded data removed]",
            "text/plain": [
              "<Figure size 432x288 with 1 Axes>"
            ]
          },
          "metadata": {
            "needs_background": "light"
          }
        },
        {
          "output_type": "stream",
          "name": "stdout",
          "text": [
            "\n",
            "There are 43 movies with no elements in cast\n"
          ]
        }
      ]
    },
    {
      "cell_type": "markdown",
      "source": [
        "Check characters"
      ],
      "metadata": {
        "id": "lIzrfVqhCUa2"
      }
    },
    {
      "cell_type": "code",
      "source": [
        "check_object_column(df, \"cast\", \"character\", figsize=(15.3, 4.8), bins=40)"
      ],
      "metadata": {
        "colab": {
          "base_uri": "https://localhost:8080/",
          "height": 698
        },
        "id": "Yx432p-jCWAb",
        "outputId": "25719a19-706b-4562-aa7b-f7da55bfd08c"
      },
      "execution_count": 275,
      "outputs": [
        {
          "output_type": "stream",
          "name": "stdout",
          "text": [
            "Found 71577 different unique elements\n",
            "First elements:\n",
            "[('Himself', 909), ('', 683), ('Dancer', 375), ('Additional Voices (voice)', 323), ('Herself', 229), ('Reporter', 136), ('Doctor', 132), ('Nurse', 117), ('Waitress', 108), ('Bartender', 93), ('Extra: Bar / Comedy Club', 85), ('Cop', 81), ('Paul', 81), ('Student', 80), ('Security Guard', 78), ('Sam', 78), ('(voice)', 77), ('Jack', 72), ('Frank', 70), ('Choir', 69)]\n",
            "Last elements:\n",
            "[('Man On Couch #1', 1), ('Man On Couch #2', 1), ('Rachel Granger', 1), ('Thomas Granger', 1), (\"Aaron's Co-worker\", 1), ('Clean Room Technician', 1), (\"Will's Cousin\", 1), (\"Rachel's Date\", 1), ('Bigotón', 1), ('Mauricio (Moco)', 1), ('Azul', 1), ('Cantinero', 1), (\"Moco's Men\", 1), ('Oliver O’Toole', 1), ('Shane McInerney', 1), ('Rita Haywith', 1), ('Norman Dorman', 1), ('Charlie Riggs', 1), ('Andrea Shmeckle', 1), ('Marcus Groff', 1)]\n"
          ]
        },
        {
          "output_type": "display_data",
          "data": {
            "image/png": "[encoded data removed]",
            "text/plain": [
              "<Figure size 432x288 with 1 Axes>"
            ]
          },
          "metadata": {
            "needs_background": "light"
          }
        },
        {
          "output_type": "display_data",
          "data": {
            "image/png": "[encoded data removed]",
            "text/plain": [
              "<Figure size 432x288 with 1 Axes>"
            ]
          },
          "metadata": {
            "needs_background": "light"
          }
        },
        {
          "output_type": "stream",
          "name": "stdout",
          "text": [
            "\n",
            "There are 43 movies with no elements in cast\n"
          ]
        }
      ]
    },
    {
      "cell_type": "markdown",
      "source": [
        "Check actor genders"
      ],
      "metadata": {
        "id": "VU81AEbECywA"
      }
    },
    {
      "cell_type": "code",
      "source": [
        "check_object_column(df, \"cast\", \"gender\", figsize=(6.4, 4.8), bins=40)"
      ],
      "metadata": {
        "colab": {
          "base_uri": "https://localhost:8080/",
          "height": 770
        },
        "id": "OOcodU40C0SX",
        "outputId": "d58d4206-5920-44f5-e191-b0ad6c261351"
      },
      "execution_count": 276,
      "outputs": [
        {
          "output_type": "stream",
          "name": "stdout",
          "text": [
            "Found 3 different unique elements\n",
            "[(2, 48291), (0, 33798), (1, 24168)]\n"
          ]
        },
        {
          "output_type": "display_data",
          "data": {
            "image/png": "[encoded data removed]",
            "text/plain": [
              "<Figure size 460.8x345.6 with 1 Axes>"
            ]
          },
          "metadata": {
            "needs_background": "light"
          }
        },
        {
          "output_type": "display_data",
          "data": {
            "image/png": "[encoded data removed]",
            "text/plain": [
              "<Figure size 432x288 with 1 Axes>"
            ]
          },
          "metadata": {
            "needs_background": "light"
          }
        },
        {
          "output_type": "stream",
          "name": "stdout",
          "text": [
            "\n",
            "There are 43 movies with no elements in cast\n"
          ]
        }
      ]
    },
    {
      "cell_type": "markdown",
      "source": [
        "## Check crew column"
      ],
      "metadata": {
        "id": "cQ0pYxQRCoAg"
      }
    },
    {
      "cell_type": "markdown",
      "source": [
        "Check crew department"
      ],
      "metadata": {
        "id": "etz4PXTKDKdn"
      }
    },
    {
      "cell_type": "code",
      "source": [
        "check_object_column(df, \"crew\", \"department\", figsize=(15.3, 4.8), bins=40)"
      ],
      "metadata": {
        "colab": {
          "base_uri": "https://localhost:8080/",
          "height": 771
        },
        "id": "ID3o3KBYDZFI",
        "outputId": "0b094931-75cd-41c6-fbec-f61dd8547a21"
      },
      "execution_count": 277,
      "outputs": [
        {
          "output_type": "stream",
          "name": "stdout",
          "text": [
            "Found 12 different unique elements\n",
            "[('Production', 27675), ('Sound', 16176), ('Art', 14853), ('Crew', 13826), ('Costume & Make-Up', 11188), ('Writing', 10688), ('Camera', 9204), ('Directing', 8149), ('Editing', 7855), ('Visual Effects', 7553), ('Lighting', 2410), ('Actors', 4)]\n"
          ]
        },
        {
          "output_type": "display_data",
          "data": {
            "image/png": "[encoded data removed]",
            "text/plain": [
              "<Figure size 1101.6x345.6 with 1 Axes>"
            ]
          },
          "metadata": {
            "needs_background": "light"
          }
        },
        {
          "output_type": "display_data",
          "data": {
            "image/png": "[encoded data removed]",
            "text/plain": [
              "<Figure size 432x288 with 1 Axes>"
            ]
          },
          "metadata": {
            "needs_background": "light"
          }
        },
        {
          "output_type": "stream",
          "name": "stdout",
          "text": [
            "\n",
            "There are 28 movies with no elements in crew\n"
          ]
        }
      ]
    },
    {
      "cell_type": "markdown",
      "source": [
        "Check crew job"
      ],
      "metadata": {
        "id": "gDvZmin7DUaP"
      }
    },
    {
      "cell_type": "code",
      "source": [
        "check_object_column(df, \"crew\", \"job\", figsize=(15.3, 4.8), bins=40)"
      ],
      "metadata": {
        "colab": {
          "base_uri": "https://localhost:8080/",
          "height": 698
        },
        "id": "EG8oLfKRDjzX",
        "outputId": "8308f135-d143-4c11-8670-6e2ced9d147c"
      },
      "execution_count": 278,
      "outputs": [
        {
          "output_type": "stream",
          "name": "stdout",
          "text": [
            "Found 418 different unique elements\n",
            "First elements:\n",
            "[('Producer', 10206), ('Executive Producer', 6177), ('Director', 5166), ('Screenplay', 5010), ('Editor', 4699), ('Casting', 4447), ('Director of Photography', 3676), ('Art Direction', 3338), ('Original Music Composer', 3154), ('Production Design', 2837), ('Costume Design', 2670), ('Writer', 2348), ('Set Decoration', 2283), ('Makeup Artist', 1977), ('Animation', 1736), ('Script Supervisor', 1708), ('Sound Re-Recording Mixer', 1694), ('Camera Operator', 1645), ('Visual Effects Supervisor', 1601), ('Hairstylist', 1511)]\n",
            "Last elements:\n",
            "[('Lighting Production Assistant', 1), ('Armory Coordinator', 1), ('Story Editor', 1), ('Prop Designer', 1), ('Schedule Coordinator', 1), ('Special Guest Director', 1), ('Set Production Intern', 1), ('Shoe Design', 1), ('Co-Editor', 1), ('Gun Wrangler', 1), ('Video Game', 1), ('Temp Sound Editor', 1), ('Underwater Gaffer', 1), ('Assistant Music Supervisor', 1), ('Animatronics Supervisor', 1), ('Sound Montage Associate', 1), ('Radio Play', 1), ('Key Animation', 1), ('Mechanical & Creature Designer', 1), ('Imaging Science', 1)]\n"
          ]
        },
        {
          "output_type": "display_data",
          "data": {
            "image/png": "[encoded data removed]",
            "text/plain": [
              "<Figure size 432x288 with 1 Axes>"
            ]
          },
          "metadata": {
            "needs_background": "light"
          }
        },
        {
          "output_type": "display_data",
          "data": {
            "image/png": "[encoded data removed]",
            "text/plain": [
              "<Figure size 432x288 with 1 Axes>"
            ]
          },
          "metadata": {
            "needs_background": "light"
          }
        },
        {
          "output_type": "stream",
          "name": "stdout",
          "text": [
            "\n",
            "There are 28 movies with no elements in crew\n"
          ]
        }
      ]
    },
    {
      "cell_type": "markdown",
      "source": [
        "Check crew name"
      ],
      "metadata": {
        "id": "43FyNIMGDXIe"
      }
    },
    {
      "cell_type": "code",
      "source": [
        "check_object_column(df, \"crew\", \"name\", figsize=(15.3, 4.8), bins=40)"
      ],
      "metadata": {
        "colab": {
          "base_uri": "https://localhost:8080/",
          "height": 698
        },
        "id": "9KtHo2XBDtm_",
        "outputId": "1828618c-612e-407c-f1c2-dec581b14323"
      },
      "execution_count": 279,
      "outputs": [
        {
          "output_type": "stream",
          "name": "stdout",
          "text": [
            "Found 52234 different unique elements\n",
            "First elements:\n",
            "[('Robert Rodriguez', 104), ('Steven Spielberg', 84), ('Avy Kaufman', 83), ('Mary Vernieu', 82), ('Deborah Aquila', 75), ('Hans Zimmer', 71), ('James Newton Howard', 69), ('Harvey Weinstein', 68), ('Tricia Wood', 67), ('Bob Weinstein', 67), ('Francine Maisler', 63), ('John Debney', 60), ('Danny Elfman', 58), ('Kerry Barden', 55), ('Kevin Kaska', 54), ('John Williams', 54), ('Christophe Beck', 54), ('Arnon Milchan', 54), ('Scott Rudin', 54), ('Luc Besson', 53)]\n",
            "Last elements:\n",
            "[('Kambuzia Partovi', 1), ('Jafar Panahi', 1), ('Colin Downey', 1), ('Daniel M. Berger', 1), ('Ladd Vance', 1), ('Orlando Aguillen', 1), ('Neill Dela Llana', 1), ('Ian Gamazon', 1), ('Eric Guthrie', 1), ('Chris Knudson', 1), ('Cecilio Rodríguez', 1), ('Mark Trujillo', 1), ('Harvey Kahn', 1), ('Adam Sliwinski', 1), ('Joel S. Rice', 1), ('Shana Landsburg', 1), ('Renee Read', 1), ('Lisa Binkley', 1), ('Brian Herzlinger', 1), ('Brett Winn', 1)]\n"
          ]
        },
        {
          "output_type": "display_data",
          "data": {
            "image/png": "[encoded data removed]",
            "text/plain": [
              "<Figure size 432x288 with 1 Axes>"
            ]
          },
          "metadata": {
            "needs_background": "light"
          }
        },
        {
          "output_type": "display_data",
          "data": {
            "image/png": "[encoded data removed]",
            "text/plain": [
              "<Figure size 432x288 with 1 Axes>"
            ]
          },
          "metadata": {
            "needs_background": "light"
          }
        },
        {
          "output_type": "stream",
          "name": "stdout",
          "text": [
            "\n",
            "There are 28 movies with no elements in crew\n"
          ]
        }
      ]
    },
    {
      "cell_type": "markdown",
      "source": [
        "# Check columns left for missing values"
      ],
      "metadata": {
        "id": "tLaaKzxYD-VF"
      }
    },
    {
      "cell_type": "code",
      "source": [
        "def check_nan_values(df, column_name):\n",
        "  nan_values_count = sum(df[column_name].isnull())\n",
        "  print(f\"Column {column_name} has {nan_values_count} NaN values\")\n",
        "  return nan_values_count"
      ],
      "metadata": {
        "id": "lYtf8S7tEWnD"
      },
      "execution_count": 280,
      "outputs": []
    },
    {
      "cell_type": "code",
      "source": [
        "def check_empty_string(df, column_name):\n",
        "  empty_string_count = 0\n",
        "  for elem in list(df[column_name]):\n",
        "    if elem == \"\":\n",
        "      empty_string_count += 1\n",
        "  print(f\"Column {column_name} has {empty_string_count} empty string values\")"
      ],
      "metadata": {
        "id": "b6R9cSNMFYBm"
      },
      "execution_count": 281,
      "outputs": []
    },
    {
      "cell_type": "markdown",
      "source": [
        "Check homepage column"
      ],
      "metadata": {
        "id": "ittP5BOND7cu"
      }
    },
    {
      "cell_type": "code",
      "source": [
        "check_nan_values(df, \"homepage\")\n",
        "check_empty_string(df, \"homepage\")"
      ],
      "metadata": {
        "colab": {
          "base_uri": "https://localhost:8080/"
        },
        "id": "k8-s8dbKESfu",
        "outputId": "989b05e3-11b5-4b02-acf6-a8064320424e"
      },
      "execution_count": 282,
      "outputs": [
        {
          "output_type": "stream",
          "name": "stdout",
          "text": [
            "Column homepage has 3091 NaN values\n",
            "Column homepage has 0 empty string values\n"
          ]
        }
      ]
    },
    {
      "cell_type": "markdown",
      "source": [
        "Check overview column"
      ],
      "metadata": {
        "id": "h6WeRZi7Fe5V"
      }
    },
    {
      "cell_type": "code",
      "source": [
        "check_nan_values(df, \"overview\")\n",
        "check_empty_string(df, \"overview\")"
      ],
      "metadata": {
        "colab": {
          "base_uri": "https://localhost:8080/"
        },
        "id": "AtfMxUggFnhm",
        "outputId": "a00ef079-a1df-4c96-dcc1-b83113de9a30"
      },
      "execution_count": 283,
      "outputs": [
        {
          "output_type": "stream",
          "name": "stdout",
          "text": [
            "Column overview has 3 NaN values\n",
            "Column overview has 0 empty string values\n"
          ]
        }
      ]
    },
    {
      "cell_type": "markdown",
      "source": [
        "Check release_date column"
      ],
      "metadata": {
        "id": "q9IyrzNyI1Zz"
      }
    },
    {
      "cell_type": "code",
      "source": [
        "check_nan_values(df, \"release_date\")\n",
        "check_empty_string(df, \"release_date\")"
      ],
      "metadata": {
        "colab": {
          "base_uri": "https://localhost:8080/"
        },
        "id": "KDmgM4nXIu_r",
        "outputId": "ab5ee5c4-c629-4c34-be09-ea36fce1ad85"
      },
      "execution_count": 284,
      "outputs": [
        {
          "output_type": "stream",
          "name": "stdout",
          "text": [
            "Column release_date has 1 NaN values\n",
            "Column release_date has 0 empty string values\n"
          ]
        }
      ]
    },
    {
      "cell_type": "markdown",
      "source": [
        "Check tagline column"
      ],
      "metadata": {
        "id": "aXoveyAnJAvy"
      }
    },
    {
      "cell_type": "code",
      "source": [
        "check_nan_values(df, \"tagline\")\n",
        "check_empty_string(df, \"tagline\")"
      ],
      "metadata": {
        "colab": {
          "base_uri": "https://localhost:8080/"
        },
        "id": "8dFhZTjaJHSi",
        "outputId": "c96b8f97-1c0f-4905-95da-46afdb774ee3"
      },
      "execution_count": 285,
      "outputs": [
        {
          "output_type": "stream",
          "name": "stdout",
          "text": [
            "Column tagline has 844 NaN values\n",
            "Column tagline has 0 empty string values\n"
          ]
        }
      ]
    },
    {
      "cell_type": "markdown",
      "source": [
        "# Useful vs Not useful columns for predicting genre\n",
        "\n"
      ],
      "metadata": {
        "id": "opk9iBwFSWhb"
      }
    },
    {
      "cell_type": "markdown",
      "source": [
        "## Useful\n",
        "\n",
        "*   Keywords\n",
        "\n",
        "> 1.   There are 9813 unique keywords.\n",
        "> 2.   412 movies with no keyword.\n",
        "> 3.   Some keywords appear in many movies. The 1st ranked keyword appears in 324 movies, the 20th ranked keyword appears in 89 movies.\n",
        "\n",
        "\n",
        "*   Title\n",
        "\n",
        "> 1.   Any movies has a title.\n",
        "> 2.   There are only 3 pairs of movies with the same title.\n",
        "\n",
        "\n",
        "*   Overview\n",
        "\n",
        "> 1.   **This might be the most useful feature**\n",
        "> 2.   Only 3 movies have no overview.\n",
        "\n",
        "\n",
        "*   Production Companies\n",
        "\n",
        "> 1.   There are 5017 unique production companies.\n",
        "> 2.   Some companies appear in many movies. The 1st ranked keyword appears in 319 movies, the 20th ranked keyword appears in 56 movies.\n",
        "> 3.   351 movies have no production company stated.\n",
        "\n",
        "*   Tagline\n",
        "\n",
        "> 1.   844 movies have no tagline.\n",
        "> 2.   They contain less information compared to **Overview** but the information should still be helpful.\n"
      ],
      "metadata": {
        "id": "dxbbyLOZSk7M"
      }
    },
    {
      "cell_type": "markdown",
      "source": [
        "## Maybe useful\n",
        "\n",
        "\n",
        "\n",
        "*   Budget\n",
        "\n",
        "> 1. 1037 movies have no budget reported.\n",
        "> 2. There might be a link between the budget value and movie genre (ex: action movies might be generally more expensive)\n",
        "\n",
        "*   Original Language\n",
        "\n",
        "> 1. 4505 movies have English as original language.\n",
        "> 2. All movies have exactly one original language reported.\n",
        "> 3. It might be useful for predicting the genre for non US made movies. Other countries may be focusing on a particular movie genre.\n",
        "\n",
        "\n",
        "*   Popularity\n",
        "\n",
        "> 1. Only 1 movie has 0 popularity.\n",
        "> 2. Popularity might be linked with movie genre (an educated guess would be that action movies have high popularity).\n",
        "\n",
        "*   Production Countries\n",
        "\n",
        "> 1. 174 movies have no production country reported.\n",
        "> 2. US is connected to most movies (3956), however, some other countries are also connected to a decent amount of movies (the one ranked 20th is connected to 19 movies). \n",
        "> 3. Most movies have a single production country (\\~3400), some movies have two production countries (\\~800). Some movies have three production countries (\\~250). There are even movies with six production countries.\n",
        "\n",
        "*   Revenue\n",
        "\n",
        "> 1. 1427 movies have no revenue reported.\n",
        "> 2. Same as budget, there might be a link between movie genre and revenue.\n",
        "\n",
        "*   Runtime\n",
        "\n",
        "> 1. 35 movies have no runtime reported.\n",
        "> 2. The runtime distribution is normal (almost) with mean of 100 minutes. \n",
        "\n",
        "*   Spoken Languages\n",
        "\n",
        "> 1. 87 movies have no spoken language reported.\n",
        "> 2. There are 86 unique spoken languages.\n",
        "> 3. Similar to Production Countries\n",
        "\n",
        "*   Vote Average\n",
        "\n",
        "> 1. 63 movies with no vote average reported.\n",
        "> 2. Normal distribution (almost) with mean of 6.\n",
        "\n",
        "*   Vote Count\n",
        "\n",
        "> 1. 62 movies have no vote count reported.\n",
        "> 2. Exponential distribution, most movies have a low vote cound (75% less than 737 votes).\n",
        "\n",
        "*   Cast\n",
        "\n",
        "> 1. 43 movies have no cast members reported.\n",
        "> 2. Some actors appear in multiple movies. The 1st actor appears in 67 movies, while the 20th ranked actor appears in 36 movies.\n",
        "> 3. There are 54201 unique actors.\n",
        "> 4. We could use the cast count as a feature. Maybe some movie genres generally use more actors than others.\n",
        "\n",
        "*   Crew\n",
        "\n",
        "> 1. 28 movies with no crew members reported.\n",
        "> 2. Similarly to Cast, some crew members appear in multiple movies. 1st in 104 movies, 20th in 53 movies.\n",
        "> 3. There are 52234 unique crew members.\n",
        "> 4. There are only 12 unique crew departments. We could use the number of crew members from each department as a feature. Maybe some genres require additional crew members for a specific department."
      ],
      "metadata": {
        "id": "vnkfDzJlVnGR"
      }
    },
    {
      "cell_type": "markdown",
      "source": [
        "## Useless\n",
        "\n",
        "\n",
        "\n",
        "*   Homepage\n",
        "*   Id\n",
        "*   Status\n",
        "*   Release Date\n",
        "\n"
      ],
      "metadata": {
        "id": "PYEo3bSGUweK"
      }
    }
  ]
}